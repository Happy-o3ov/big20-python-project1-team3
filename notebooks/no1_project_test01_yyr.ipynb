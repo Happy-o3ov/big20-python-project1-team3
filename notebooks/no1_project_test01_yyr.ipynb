{
 "cells": [
  {
   "cell_type": "code",
   "execution_count": 2,
   "id": "65ce7623",
   "metadata": {},
   "outputs": [],
   "source": [
    "import pickle\n",
    "\n",
    "DATA_FILE = \"member.dat\""
   ]
  },
  {
   "cell_type": "code",
   "execution_count": 3,
   "id": "94513392",
   "metadata": {},
   "outputs": [],
   "source": [
    "def save_data(data):\n",
    "    with open(DATA_FILE, \"wb\") as f:\n",
    "        pickle.dump(data, f)\n",
    "\n",
    "def load_data():\n",
    "    try:\n",
    "        with open(DATA_FILE, \"rb\") as f:\n",
    "            return pickle.load(f)\n",
    "    except FileNotFoundError:\n",
    "        return {}"
   ]
  },
  {
   "cell_type": "code",
   "execution_count": 8,
   "id": "49c197de",
   "metadata": {},
   "outputs": [],
   "source": [
    "prompt = \"\"\"\n",
    "1. 회원 목록\n",
    "2. 회원 추가\n",
    "5. 종료\n",
    "\"\"\"\n",
    "\n",
    "data = {\n",
    "    '번호1': {'name':'윤여림', 'phone':'01074112681', 'relation':'친구'},\n",
    "    '번호2': {'name':'하리와아이들', 'phone':'01086932681', 'relation':'가족'},\n",
    "    '번호3': {'name':'여리미', 'phone':'01031033126', 'relation':'그외'}\n",
    "}\n",
    "save_data(data)"
   ]
  },
  {
   "cell_type": "code",
   "execution_count": null,
   "id": "47ff397a",
   "metadata": {},
   "outputs": [
    {
     "name": "stdout",
     "output_type": "stream",
     "text": [
      "전화번호는 : 번호1\n",
      "이름 : 윤여림\n",
      "관계 : 친구\n",
      "전화번호는 : 번호2\n",
      "이름 : 하리와아이들\n",
      "관계 : 가족\n",
      "전화번호는 : 번호3\n",
      "이름 : 여리미\n",
      "관계 : 그외\n"
     ]
    }
   ],
   "source": [
    "def add_data():\n",
    "    data(data,'01031003333','땡땡과아이들','친구')\n",
    "\n",
    "# for key,value in data.items():\n",
    "#     print(f\"전화번호는 : {key}, \n",
    "#     이름 : {value['name']},\n",
    "#     관계 : {value['relation']}\")\n",
    "\n",
    "for key, value in data.items():\n",
    "    print(f\"전화번호는 : {key}\")\n",
    "    print(f\"이름 : {value['name']}\")\n",
    "    print(f\"관계 : {value['relation']}\")\n"
   ]
  },
  {
   "cell_type": "code",
   "execution_count": null,
   "id": "4fcfc06c",
   "metadata": {},
   "outputs": [],
   "source": []
  }
 ],
 "metadata": {
  "kernelspec": {
   "display_name": "python-env",
   "language": "python",
   "name": "python3"
  },
  "language_info": {
   "codemirror_mode": {
    "name": "ipython",
    "version": 3
   },
   "file_extension": ".py",
   "mimetype": "text/x-python",
   "name": "python",
   "nbconvert_exporter": "python",
   "pygments_lexer": "ipython3",
   "version": "3.11.13"
  }
 },
 "nbformat": 4,
 "nbformat_minor": 5
}
