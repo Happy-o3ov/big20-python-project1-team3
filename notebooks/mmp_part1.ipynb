{
 "cells": [
  {
   "cell_type": "code",
   "execution_count": 3,
   "id": "7f5e0529",
   "metadata": {},
   "outputs": [],
   "source": [
    "# ------------------------------------------------------------------------------------ #\n",
    "# 1stSuject_mmpUsingDict.py 1차 과제 회원관리 class + Dict 를 사용한 방법\n",
    "# ------------------------------------------------------------------------------------ #\n",
    "\n",
    "import pickle\n",
    "import os\n",
    "import re\n",
    "from datetime import datetime\n",
    "\n",
    "# 데이터 파일 경로 설정\n",
    "DATA_FILE = '../data/members.dat'\n",
    "\n",
    "# 에러 메시지 상수 정의\n",
    "ERROR_MESSAGES = {\n",
    "    \"name_empty\": \"이름 오류: 이름을 입력해야 합니다.\",\n",
    "    \"name_format\": \"이름 오류: 이름은 한글 또는 영문 1자 이상 5자 이하로 입력해야 합니다.\",\n",
    "    \"phone_empty\": \"전화번호 오류: 전화번호를 입력해야 합니다.\",\n",
    "    \"phone_format\": \"전화번호 오류: '000-0000-0000' 형식으로 입력해야 합니다.\",\n",
    "    \"relation_empty\": \"관계 오류: 관계를 입력해야 합니다.\",\n",
    "    \"relation_format\": \"관계 오류: 1, 2, 3 중 하나를 선택해야 합니다.\",\n",
    "    \"address_empty\": \"주소 오류: 주소를 입력해야 합니다.\",\n",
    "    \"duplicate_phone\": \"중복 오류: 이미 등록된 전화번호입니다.\",\n",
    "    \"not_found\": \"검색된 목록이 없습니다.\",\n",
    "    \"invalid_input\": \"잘못 입력했습니다. 다시 시도하세요.\",\n",
    "    \"invalid_menu_number\": \"잘못 입력했습니다. 다시 시도하세요.\",\n",
    "    \"exit_confirm\": \"정말로 종료하시겠습니까? (1. 예, 2. 아니오): \",\n",
    "    \"delete_confirm\": \"정말로 '{name}'을(를) 삭제하시겠습니까? (1. 삭제, 2. 취소하고 메인 메뉴로 돌아가기): \"\n",
    "}\n"
   ]
  },
  {
   "cell_type": "code",
   "execution_count": null,
   "id": "ff2a8755",
   "metadata": {},
   "outputs": [],
   "source": [
    "class Member:\n",
    "    \"\"\"개별 회원 데이터를 담는 클래스\"\"\"\n",
    "    def __init__(self, name, phone, relation, address='-', reg_date=None):\n",
    "        self.name = name\n",
    "        self.phone = phone\n",
    "        self.relation = relation\n",
    "        self.address = address\n",
    "        self.reg_date = reg_date if reg_date else datetime.now().strftime('%Y-%m-%d %H:%M:%S')\n",
    "\n",
    "class MemberManager:\n",
    "    \"\"\"회원 전체를 관리하는 클래스 (딕셔너리 기반)\"\"\"\n",
    "    def __init__(self, data_file):\n",
    "        self.data_file = data_file\n",
    "        self.members = {}  # 전화번호를 key로 하는 dict\n",
    "        self.load_members()\n",
    "\n",
    "    def load_members(self):\n",
    "        \"\"\"pickle로 저장된 회원 정보를 불러옴\"\"\"\n",
    "        if os.path.exists(self.data_file):\n",
    "            with open(self.data_file, 'rb') as f:\n",
    "                try:\n",
    "                    self.members = pickle.load(f)\n",
    "                except (pickle.UnpicklingError, EOFError):\n",
    "                    self.members = {}\n",
    "        print(\"회원 관리 파일을 불러왔습니다.\")\n",
    "\n",
    "    def save_members(self):\n",
    "        \"\"\"회원 정보를 pickle로 저장\"\"\"\n",
    "        os.makedirs(os.path.dirname(self.data_file), exist_ok=True)\n",
    "        with open(self.data_file, 'wb') as f:\n",
    "            pickle.dump(self.members, f)\n",
    "        print(\"회원 정보가 파일에 저장되었습니다.\")\n",
    "\n",
    "    def display_main_menu(self):\n",
    "        \"\"\"메인 메뉴 출력 및 선택\"\"\"\n",
    "        print('='*20)\n",
    "        print(\"\\n[메인 메뉴]\")\n",
    "        print('='*20)\n",
    "        print(\"1. 회원 목록 출력\")\n",
    "        print(\"2. 회원 신규 등록\")\n",
    "        print(\"3. 회원 수정\")\n",
    "        print(\"4. 회원 삭제\")\n",
    "        print(\"5. 프로그램 종료\")\n",
    "        print('='*20)\n",
    "        return input(\"메뉴 번호(숫자 1~5까지)를 입력하세요: \")     \n",
    "           "
   ]
  },
  {
   "cell_type": "code",
   "execution_count": 10,
   "id": "57e9776a",
   "metadata": {},
   "outputs": [],
   "source": [
    "def main():\n",
    "    \"\"\"메인 루프\"\"\"\n",
    "    manager = MemberManager(DATA_FILE)\n",
    "    while True:\n",
    "        choice = manager.display_main_menu()\n",
    "        if choice == '1':\n",
    "            # manager.list_members()\n",
    "            pass\n",
    "        elif choice == '2':\n",
    "            # manager.add_member()\n",
    "            pass\n",
    "        elif choice == '3':\n",
    "            # manager.update_member()\n",
    "            pass\n",
    "        elif choice == '4':\n",
    "            # manager.remove_member()\n",
    "            pass\n",
    "        elif choice == '5':\n",
    "            confirm = input(ERROR_MESSAGES[\"exit_confirm\"])\n",
    "            if confirm == '1':\n",
    "                manager.save_members()\n",
    "                print(\"프로그램을 종료합니다.\")\n",
    "                return\n",
    "        else:\n",
    "            print(ERROR_MESSAGES[\"invalid_menu_number\"])"
   ]
  },
  {
   "cell_type": "code",
   "execution_count": 11,
   "id": "745441e0",
   "metadata": {},
   "outputs": [
    {
     "name": "stdout",
     "output_type": "stream",
     "text": [
      "회원 관리 파일을 불러왔습니다.\n",
      "====================\n",
      "\n",
      "[메인 메뉴]\n",
      "====================\n",
      "1. 회원 목록 출력\n",
      "2. 회원 신규 등록\n",
      "3. 회원 수정\n",
      "4. 회원 삭제\n",
      "5. 프로그램 종료\n",
      "====================\n",
      "회원 정보가 파일에 저장되었습니다.\n",
      "프로그램을 종료합니다.\n"
     ]
    }
   ],
   "source": [
    "main()"
   ]
  },
  {
   "cell_type": "code",
   "execution_count": null,
   "id": "8e38df78",
   "metadata": {},
   "outputs": [],
   "source": []
  }
 ],
 "metadata": {
  "kernelspec": {
   "display_name": "python-env",
   "language": "python",
   "name": "python3"
  },
  "language_info": {
   "codemirror_mode": {
    "name": "ipython",
    "version": 3
   },
   "file_extension": ".py",
   "mimetype": "text/x-python",
   "name": "python",
   "nbconvert_exporter": "python",
   "pygments_lexer": "ipython3",
   "version": "3.11.13"
  }
 },
 "nbformat": 4,
 "nbformat_minor": 5
}
