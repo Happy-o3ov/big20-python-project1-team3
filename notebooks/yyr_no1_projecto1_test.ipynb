{
 "cells": [
  {
   "cell_type": "code",
   "execution_count": null,
   "id": "9952bd18",
   "metadata": {},
   "outputs": [
    {
     "ename": "",
     "evalue": "",
     "output_type": "error",
     "traceback": [
      "\u001b[1;31m'python-env (Python 3.11.13)'(으)로 셀을 실행하려면 ipykernel 패키지가 필요합니다.\n",
      "\u001b[1;31m필요한 패키지를 사용하여 <a href='command:jupyter.createPythonEnvAndSelectController'>Python 환경 만들기</a>\n",
      "\u001b[1;31m또는 다음 명령을 사용하여 'ipykernel'을(를) 설치합니다. 'conda install -n python-env ipykernel --update-deps --force-reinstall'"
     ]
    }
   ],
   "source": [
    "prompt = \"\"\"\n",
    "1. 회원 목록\n",
    "2. 회원 추가\n",
    "3. 회원 수정\n",
    "4. 회원 삭제\n",
    "5. 종료\n",
    "\"\"\"\n",
    "\n",
    "inputNumber = 0\n",
    "while inputNumber != 5:\n",
    "    print('🟥🟧🟨🟩🟦🟪⬛⬜⬛🟪🟦🟩🟨🟧🟥')\n",
    "    print(prompt)\n",
    "    print('🟥🟧🟨🟩🟦🟪⬛⬜⬛🟪🟦🟩🟨🟧🟥')\n",
    "        inputNumber=int(inputNumber('1부터 5 사이 값을 입력하세요 : '))"
   ]
  },
  {
   "cell_type": "code",
   "execution_count": null,
   "id": "b9873c8b",
   "metadata": {},
   "outputs": [
    {
     "ename": "",
     "evalue": "",
     "output_type": "error",
     "traceback": [
      "\u001b[1;31m'.conda (Python 3.11.13)'(으)로 셀을 실행하려면 ipykernel 패키지가 필요합니다.\n",
      "\u001b[1;31m'ipykernel'을(를) Python 환경에 설치합니다. \n",
      "\u001b[1;31m명령: 'conda install -n .conda ipykernel --update-deps --force-reinstall'"
     ]
    }
   ],
   "source": [
    "inputNumber = 0\n",
    "while True:\n",
    "    print('🟥🟧🟨🟩🟦🟪⬛⬜⬛🟪🟦🟩🟨🟧🟥')\n",
    "    print(prompt)\n",
    "    print('🟥🟧🟨🟩🟦🟪⬛⬜⬛🟪🟦🟩🟨🟧🟥')\n",
    "        inputNumber(input('1부터 5 사이 값을 입력하세요 : '))\n",
    "        print('입력한 값 : ', inputNumber)\n",
    "        if inputNumber == 5:\n",
    "            break"
   ]
  },
  {
   "cell_type": "code",
   "execution_count": null,
   "id": "de6cad5a",
   "metadata": {},
   "outputs": [
    {
     "ename": "",
     "evalue": "",
     "output_type": "error",
     "traceback": [
      "\u001b[1;31m'.conda (Python 3.11.13)'(으)로 셀을 실행하려면 ipykernel 패키지가 필요합니다.\n",
      "\u001b[1;31m'ipykernel'을(를) Python 환경에 설치합니다. \n",
      "\u001b[1;31m명령: 'conda install -n .conda ipykernel --update-deps --force-reinstall'"
     ]
    }
   ],
   "source": [
    "import pickle\n",
    "\n",
    "f = open('../data/member.dat','wb')\n",
    "data = {}\n",
    "pickle.dump(data, f)\n",
    "f.close()\n",
    "f = open('../data/member.dat','rb')\n",
    "data = pickle.load(f)"
   ]
  },
  {
   "cell_type": "code",
   "execution_count": null,
   "id": "cbefe183",
   "metadata": {},
   "outputs": [
    {
     "ename": "",
     "evalue": "",
     "output_type": "error",
     "traceback": [
      "\u001b[1;31m'python-env (Python 3.11.13)'(으)로 셀을 실행하려면 ipykernel 패키지가 필요합니다.\n",
      "\u001b[1;31m필요한 패키지를 사용하여 <a href='command:jupyter.createPythonEnvAndSelectController'>Python 환경 만들기</a>\n",
      "\u001b[1;31m또는 다음 명령을 사용하여 'ipykernel'을(를) 설치합니다. 'conda install -n python-env ipykernel --update-deps --force-reinstall'"
     ]
    }
   ],
   "source": [
    "member = {'phone':'01074112681', 'name':'윤여림', 'relation':'가족'}"
   ]
  },
  {
   "cell_type": "code",
   "execution_count": null,
   "id": "13748ca3",
   "metadata": {},
   "outputs": [
    {
     "ename": "",
     "evalue": "",
     "output_type": "error",
     "traceback": [
      "\u001b[1;31m'python-env (Python 3.11.13)'(으)로 셀을 실행하려면 ipykernel 패키지가 필요합니다.\n",
      "\u001b[1;31m필요한 패키지를 사용하여 <a href='command:jupyter.createPythonEnvAndSelectController'>Python 환경 만들기</a>\n",
      "\u001b[1;31m또는 다음 명령을 사용하여 'ipykernel'을(를) 설치합니다. 'conda install -n python-env ipykernel --update-deps --force-reinstall'"
     ]
    }
   ],
   "source": [
    "# 데이터 생성 ?\n",
    "\n",
    "data = {'번호1': {'name':'윤여림', 'phone':'01074112681', 'relation':'친구'}\n",
    "        '번호2': {'name':'여림이와아이들', 'phone':'01031033126', 'relation':'친구'}\n",
    "        '번호3': {'name':'여리미', 'phone':'01032103210', 'relation':'그외'}}"
   ]
  },
  {
   "cell_type": "code",
   "execution_count": null,
   "id": "957b9107",
   "metadata": {},
   "outputs": [
    {
     "ename": "",
     "evalue": "",
     "output_type": "error",
     "traceback": [
      "\u001b[1;31m'python-env (Python 3.11.13)'(으)로 셀을 실행하려면 ipykernel 패키지가 필요합니다.\n",
      "\u001b[1;31m필요한 패키지를 사용하여 <a href='command:jupyter.createPythonEnvAndSelectController'>Python 환경 만들기</a>\n",
      "\u001b[1;31m또는 다음 명령을 사용하여 'ipykernel'을(를) 설치합니다. 'conda install -n python-env ipykernel --update-deps --force-reinstall'"
     ]
    }
   ],
   "source": [
    "if inputNumber ==2:\n",
    "    add_data(data(\n",
    "        inputNnumber == 3:\n",
    "break\n",
    "inputNnumber == 4:\n",
    "break\n",
    "inputNnumber == 5:\n",
    "break\n",
    "\n",
    "f.close()"
   ]
  },
  {
   "cell_type": "code",
   "execution_count": null,
   "id": "fe2d0be2",
   "metadata": {},
   "outputs": [
    {
     "ename": "",
     "evalue": "",
     "output_type": "error",
     "traceback": [
      "\u001b[1;31m'python-env (Python 3.11.13)'(으)로 셀을 실행하려면 ipykernel 패키지가 필요합니다.\n",
      "\u001b[1;31m필요한 패키지를 사용하여 <a href='command:jupyter.createPythonEnvAndSelectController'>Python 환경 만들기</a>\n",
      "\u001b[1;31m또는 다음 명령을 사용하여 'ipykernel'을(를) 설치합니다. 'conda install -n python-env ipykernel --update-deps --force-reinstall'"
     ]
    }
   ],
   "source": [
    "def add_data()\n",
    "data(data,'01031033126','여림이와아이들','친구')\n",
    "\n",
    "for key,value in data.items():\n",
    "    print(f\"전화번호는 : {key} , 이름 : {value['name']}, 관계 : {value['relation']}\")"
   ]
  },
  {
   "cell_type": "code",
   "execution_count": null,
   "id": "9055006d",
   "metadata": {},
   "outputs": [
    {
     "ename": "",
     "evalue": "",
     "output_type": "error",
     "traceback": [
      "\u001b[1;31m'python-env (Python 3.11.13)'(으)로 셀을 실행하려면 ipykernel 패키지가 필요합니다.\n",
      "\u001b[1;31m필요한 패키지를 사용하여 <a href='command:jupyter.createPythonEnvAndSelectController'>Python 환경 만들기</a>\n",
      "\u001b[1;31m또는 다음 명령을 사용하여 'ipykernel'을(를) 설치합니다. 'conda install -n python-env ipykernel --update-deps --force-reinstall'"
     ]
    }
   ],
   "source": [
    "# 선배님 샘플 파일 코드\n",
    "# \n",
    "def makeDataFile(): # 데이터 저장\n",
    "    with open(DATA_FILE, 'wb') as f:\n",
    "        pickle.dump(Data, f)\n",
    "        \n",
    "def loadDataFile(): # 데이터 출력\n",
    "    with open(DATA_FILE, 'rb') as f:\n",
    "        data = pickle.load(f)\n",
    "    # with open(DATA_FILE, 'wb') as f:\n",
    "    pickle.dump({}, f)\n",
    "    \n",
    "# 빈 파일 생성\n",
    "with open(DATA_FILE, 'wb') as f:\n",
    "    pickle.dump({}, f) # 바로 위에랑 같네\n",
    "\n",
    "# 파일 읽기\n",
    "f = open('../../data/mmembers.dat','rb')\n",
    "data = pickle.load(f)\n",
    "print(data)\n",
    "\n",
    "loadDataFile():\n"
   ]
  },
  {
   "cell_type": "code",
   "execution_count": null,
   "id": "6b30f528",
   "metadata": {},
   "outputs": [
    {
     "ename": "",
     "evalue": "",
     "output_type": "error",
     "traceback": [
      "\u001b[1;31m'python-env (Python 3.11.13)'(으)로 셀을 실행하려면 ipykernel 패키지가 필요합니다.\n",
      "\u001b[1;31m필요한 패키지를 사용하여 <a href='command:jupyter.createPythonEnvAndSelectController'>Python 환경 만들기</a>\n",
      "\u001b[1;31m또는 다음 명령을 사용하여 'ipykernel'을(를) 설치합니다. 'conda install -n python-env ipykernel --update-deps --force-reinstall'"
     ]
    }
   ],
   "source": []
  },
  {
   "cell_type": "code",
   "execution_count": null,
   "id": "3e9dc4ae",
   "metadata": {},
   "outputs": [
    {
     "ename": "",
     "evalue": "",
     "output_type": "error",
     "traceback": [
      "\u001b[1;31m'python-env (Python 3.11.13)'(으)로 셀을 실행하려면 ipykernel 패키지가 필요합니다.\n",
      "\u001b[1;31m필요한 패키지를 사용하여 <a href='command:jupyter.createPythonEnvAndSelectController'>Python 환경 만들기</a>\n",
      "\u001b[1;31m또는 다음 명령을 사용하여 'ipykernel'을(를) 설치합니다. 'conda install -n python-env ipykernel --update-deps --force-reinstall'"
     ]
    }
   ],
   "source": []
  },
  {
   "cell_type": "code",
   "execution_count": null,
   "id": "3f2b4954",
   "metadata": {},
   "outputs": [
    {
     "ename": "",
     "evalue": "",
     "output_type": "error",
     "traceback": [
      "\u001b[1;31m'python-env (Python 3.11.13)'(으)로 셀을 실행하려면 ipykernel 패키지가 필요합니다.\n",
      "\u001b[1;31m필요한 패키지를 사용하여 <a href='command:jupyter.createPythonEnvAndSelectController'>Python 환경 만들기</a>\n",
      "\u001b[1;31m또는 다음 명령을 사용하여 'ipykernel'을(를) 설치합니다. 'conda install -n python-env ipykernel --update-deps --force-reinstall'"
     ]
    }
   ],
   "source": []
  },
  {
   "cell_type": "code",
   "execution_count": null,
   "id": "99923183",
   "metadata": {},
   "outputs": [],
   "source": []
  }
 ],
 "metadata": {
  "kernelspec": {
   "display_name": ".conda",
   "language": "python",
   "name": "python3"
  },
  "language_info": {
   "name": "python",
   "version": "3.11.13"
  }
 },
 "nbformat": 4,
 "nbformat_minor": 5
}
