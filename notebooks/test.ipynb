{
 "cells": [
  {
   "cell_type": "code",
   "execution_count": null,
   "id": "f7814108",
   "metadata": {},
   "outputs": [],
   "source": []
  },
  {
   "cell_type": "code",
   "execution_count": 5,
   "id": "831a85f4",
   "metadata": {},
   "outputs": [
    {
     "name": "stdout",
     "output_type": "stream",
     "text": [
      "\n",
      "1. 회원 목록\n",
      "2. 회원 추가\n",
      "3. 회원 삭제\n",
      "4. 회원 목록 수정\n",
      "5. 종료\n",
      "\n"
     ]
    }
   ],
   "source": [
    "\n",
    "prompt = \"\"\"\n",
    "1. 회원 목록\n",
    "2. 회원 추가\n",
    "3. 회원 삭제\n",
    "4. 회원 목록 수정\n",
    "5. 종료\n",
    "\"\"\"\n",
    "print(prompt)"
   ]
  },
  {
   "cell_type": "code",
   "execution_count": null,
   "id": "11b17098",
   "metadata": {},
   "outputs": [],
   "source": []
  },
  {
   "cell_type": "code",
   "execution_count": 7,
   "id": "dc9737d1",
   "metadata": {},
   "outputs": [
    {
     "name": "stdout",
     "output_type": "stream",
     "text": [
      "==============================\n",
      "\n",
      "1. 회원 목록\n",
      "2. 회원 추가\n",
      "3. 회원 삭제\n",
      "4. 회원 목록 수정\n",
      "5. 종료\n",
      "\n",
      "==============================\n",
      "입력한 값 :  1\n",
      "==============================\n",
      "\n",
      "1. 회원 목록\n",
      "2. 회원 추가\n",
      "3. 회원 삭제\n",
      "4. 회원 목록 수정\n",
      "5. 종료\n",
      "\n",
      "==============================\n",
      "입력한 값 :  2\n",
      "==============================\n",
      "\n",
      "1. 회원 목록\n",
      "2. 회원 추가\n",
      "3. 회원 삭제\n",
      "4. 회원 목록 수정\n",
      "5. 종료\n",
      "\n",
      "==============================\n",
      "입력한 값 :  4\n",
      "==============================\n",
      "\n",
      "1. 회원 목록\n",
      "2. 회원 추가\n",
      "3. 회원 삭제\n",
      "4. 회원 목록 수정\n",
      "5. 종료\n",
      "\n",
      "==============================\n",
      "입력한 값 :  4\n",
      "==============================\n",
      "\n",
      "1. 회원 목록\n",
      "2. 회원 추가\n",
      "3. 회원 삭제\n",
      "4. 회원 목록 수정\n",
      "5. 종료\n",
      "\n",
      "==============================\n",
      "입력한 값 :  3\n",
      "==============================\n",
      "\n",
      "1. 회원 목록\n",
      "2. 회원 추가\n",
      "3. 회원 삭제\n",
      "4. 회원 목록 수정\n",
      "5. 종료\n",
      "\n",
      "==============================\n",
      "입력한 값 :  5\n"
     ]
    }
   ],
   "source": [
    "inputNumber = 0\n",
    "while inputNumber != 5:\n",
    "    print('='*30)\n",
    "    print(prompt)\n",
    "    print('='*30)\n",
    "    inputNumber=int(input('1부터 5 사이 값을 입력하세요 : '))\n",
    "    print('입력한 값 : ', inputNumber)\n",
    "    if inputNumber == 5:\n",
    "        break"
   ]
  },
  {
   "cell_type": "code",
   "execution_count": null,
   "id": "aa62012c",
   "metadata": {},
   "outputs": [],
   "source": [
    "import pickle\n",
    "\n",
    "f = open('../data/member.dat', 'wb')\n",
    "data = {}\n",
    "pickle.dump(data, f)\n",
    "f.close()\n",
    "f = open('../data/member.dat', 'rb')\n",
    "data = pickle.load(f)\n",
    "\n",
    "f.close()"
   ]
  },
  {
   "cell_type": "code",
   "execution_count": 11,
   "id": "95330e17",
   "metadata": {},
   "outputs": [
    {
     "name": "stdout",
     "output_type": "stream",
     "text": [
      "{'01053351234': 'asdf'}\n",
      "{'01053351234': 'asdf'}\n"
     ]
    }
   ],
   "source": [
    "a = { '01053351234' : 'asdf' }\n",
    "phone_number = '01053351234'\n",
    "b= { phone_number: 'asdf'}\n",
    "print(a)\n",
    "print(b)"
   ]
  },
  {
   "cell_type": "code",
   "execution_count": null,
   "id": "ce3c24c1",
   "metadata": {},
   "outputs": [
    {
     "name": "stdout",
     "output_type": "stream",
     "text": [
      "{'name': '임명혁', 'relation': '가족'}\n"
     ]
    }
   ],
   "source": [
    "member = { 'phone' : '01053353123', 'name' : '임명혁' , 'relation' : '가족'}\n",
    "print(member)\n",
    "member."
   ]
  }
 ],
 "metadata": {
  "kernelspec": {
   "display_name": "python-env",
   "language": "python",
   "name": "python3"
  },
  "language_info": {
   "codemirror_mode": {
    "name": "ipython",
    "version": 3
   },
   "file_extension": ".py",
   "mimetype": "text/x-python",
   "name": "python",
   "nbconvert_exporter": "python",
   "pygments_lexer": "ipython3",
   "version": "3.11.13"
  }
 },
 "nbformat": 4,
 "nbformat_minor": 5
}
