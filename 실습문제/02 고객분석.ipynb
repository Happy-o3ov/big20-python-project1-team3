{
 "cells": [
  {
   "cell_type": "code",
   "execution_count": 2,
   "id": "15ccfa3d",
   "metadata": {},
   "outputs": [
    {
     "name": "stdout",
     "output_type": "stream",
     "text": [
      "한글 폰트 설정이 완료되었습니다.\n",
      "데이터 로드 및 통합이 완료되었습니다.\n"
     ]
    }
   ],
   "source": [
    "# 1. 파이썬 코드에서 Matplotlib 폰트 설정\n",
    "import matplotlib.pyplot as plt\n",
    "import pandas as pd\n",
    "import seaborn as sns\n",
    "import numpy as np\n",
    "from datetime import timedelta\n",
    "from itertools import combinations\n",
    "from collections import Counter\n",
    "\n",
    "# 폰트 설정\n",
    "plt.rc('font', family='Malgun Gothic')\n",
    "# 마이너스 부호 깨짐 방지\n",
    "plt.rcParams['axes.unicode_minus'] = False\n",
    "\n",
    "print(\"한글 폰트 설정이 완료되었습니다.\")\n",
    "\n",
    "# 3. 데이터 로드 및 통합 (모든 문제 풀이의 시작점)\n",
    "try:\n",
    "    orders_df = pd.read_csv('../data/orders.csv')\n",
    "    payments_df = pd.read_csv('../data/payments.csv')\n",
    "    products_df = pd.read_csv('../data/products.csv')\n",
    "    shipping_df = pd.read_csv('../data/shipping.csv')\n",
    "    customers_df = pd.read_csv('../data/customers.csv')\n",
    "\n",
    "    # 모든 데이터프레임 병합\n",
    "    df = pd.merge(orders_df, payments_df, on='order_id', how='left')\n",
    "    df = pd.merge(df, products_df, on='product_id', how='left')\n",
    "    df = pd.merge(df, customers_df, on='customer_id', how='left')\n",
    "    df = pd.merge(df, shipping_df, on='order_id', how='left')\n",
    "\n",
    "    # 데이터 전처리\n",
    "    date_cols = ['order_date', 'payment_date', 'join_date', 'shipping_start_date', 'shipping_end_date']\n",
    "    for col in date_cols:\n",
    "        df[col] = pd.to_datetime(df[col], errors='coerce')\n",
    "    df['total_sales'] = df['quantity'] * df['price']\n",
    "    \n",
    "    print(\"데이터 로드 및 통합이 완료되었습니다.\")\n",
    "\n",
    "except FileNotFoundError as e:\n",
    "    print(f\"파일을 찾을 수 없습니다: {e}\")\n"
   ]
  },
  {
   "cell_type": "code",
   "execution_count": 3,
   "id": "540d61de",
   "metadata": {},
   "outputs": [],
   "source": [
    "# 문제 2: 고객의 생애 가치(LTV)를 간단하게 계산하여 상위 10명의 고객을 찾으세요\n",
    "# 비즈니스 목적: 장기적으로 회사에 가장 큰 가치를 제공하는 핵심 고객을 식별하고, 이들이게 차별화된 혜택을 제공하여 관계를 유지합니다"
   ]
  },
  {
   "cell_type": "code",
   "execution_count": 4,
   "id": "e9e505d9",
   "metadata": {},
   "outputs": [
    {
     "name": "stdout",
     "output_type": "stream",
     "text": [
      "총 누적 구매액 기준 상위 10명 고객(LTV)\n",
      "                 ltv\n",
      "customer_id         \n",
      "C0625        2894100\n",
      "C1698        2761799\n",
      "C1147        2756300\n",
      "C1448        2463200\n",
      "C1935        2422100\n",
      "C0409        2245800\n",
      "C1945        2227800\n",
      "C0338        2221300\n",
      "C1990        2207500\n",
      "C0007        2200800\n"
     ]
    },
    {
     "data": {
      "image/png": "[encoded data removed]",
      "text/plain": [
       "<Figure size 1200x700 with 1 Axes>"
      ]
     },
     "metadata": {},
     "output_type": "display_data"
    }
   ],
   "source": [
    "# 데이터 정제\n",
    "import matplotlib.ticker as ticker\n",
    "\n",
    "cols=['customer_id','order_id','total_sales','order_date']\n",
    "df_data = df[cols].copy()\n",
    "\n",
    "df_data = df_data.groupby('customer_id').agg(\n",
    "    order_count=('order_id','count'),  # 주문 수\n",
    "    total_revenue=('total_sales','sum'),  # 총 매출\n",
    "    first_purchase=('order_date','min'),\n",
    "    last_purchase=('order_date','max')\n",
    ").reset_index()\n",
    "\n",
    "df_data['lifespan_days'] = (df_data['last_purchase'] - df_data['first_purchase']).dt.days\n",
    "df_data['lifespan_months'] = df_data['lifespan_days'] / 30\n",
    "df_data['lifespan_months'] = df_data['lifespan_months'].replace(0, 1)  # 0 방지\n",
    "# 평균 주문 금액 (AOV: Average Order Value)\n",
    "df_data['avg_order_value'] = df_data['total_revenue'] / df_data['order_count']\n",
    "# 구매 빈도 (월 평균 주문 수)\n",
    "df_data['purchase_frequency'] = df_data['order_count'] / df_data['lifespan_months']\n",
    "# LTV 계산\n",
    "df_data['ltv'] = (df_data['avg_order_value'] * df_data['purchase_frequency'] * df_data['lifespan_months'])\n",
    "\n",
    "pivot_df = pd.pivot_table(\n",
    "    data=df_data,\n",
    "    index='customer_id',\n",
    "    values='ltv'\n",
    ").astype(int)\n",
    "\n",
    "top10_pivot = pivot_df.sort_values(by='ltv', ascending=False).head(10)\n",
    "\n",
    "print('총 누적 구매액 기준 상위 10명 고객(LTV)')\n",
    "print(top10_pivot)\n",
    "\n",
    "plt.figure(figsize=(12,7))\n",
    "plt.barh(top10_pivot.index, top10_pivot['ltv'],height=0.5)\n",
    "plt.gca().xaxis.set_major_formatter(ticker.FormatStrFormatter('%d'))\n",
    "plt.gca().invert_yaxis()\n",
    "plt.ylabel('고객 ID')\n",
    "plt.xlabel('총 누적 구매액')\n",
    "plt.show()"
   ]
  },
  {
   "cell_type": "code",
   "execution_count": 5,
   "id": "0abf9874",
   "metadata": {},
   "outputs": [],
   "source": [
    "# 문제 3: 이탈 고객(가정: 마지막 구매 후 180일 이상 경과)의 이탈 직전 30일간 구매 패턴을 분석하세요.\n",
    "# - 분석 기준일을 마지막 주문일 다음 날로 설정\n",
    "# 비즈니스 목적: 고객이 이탈하기 전에 보이는 공통적인 행동 패턴을 파악하여, 유사한 패턴을 보이는 고객에게 선제적으로 이탈 방지 캠페인을 진행합니다. "
   ]
  },
  {
   "cell_type": "code",
   "execution_count": null,
   "id": "8797db92",
   "metadata": {},
   "outputs": [
    {
     "data": {
      "text/plain": [
       "customer_id\n",
       "C0001    145842.857143\n",
       "C0006    220500.000000\n",
       "C0009    167366.666667\n",
       "C0013    148875.000000\n",
       "C0014    173440.000000\n",
       "Name: total_sales, dtype: float64"
      ]
     },
     "execution_count": 110,
     "metadata": {},
     "output_type": "execute_result"
    }
   ],
   "source": [
    "# 데이터 전처리\n",
    "cols=['customer_id','total_sales','order_date','category']\n",
    "df_data = df[cols].copy()\n",
    "\n",
    "last_order_date = df_data.groupby('customer_id').agg(last_order = ('order_date','max'))\n",
    "last_order_date['reference_date'] = last_order_date['last_order'] + pd.Timedelta(days=1)\n",
    "today = pd.Timestamp.today()\n",
    "last_order_date['days_since_last_order'] = (today - last_order_date['reference_date']).dt.days\n",
    "churned_customers = last_order_date[last_order_date['days_since_last_order'] >= 180].copy()\n",
    "churned_customers['start_date'] = churned_customers['reference_date'] - pd.Timedelta(days=30)\n",
    "df_merged = df_data.merge(churned_customers[['start_date', 'reference_date']], on='customer_id', how='inner')\n",
    "\n",
    "# 이탈 직전 30일 내 구매만 필터링\n",
    "recent_30days = df_merged[\n",
    "    (df_merged['order_date'] >= df_merged['start_date']) &\n",
    "    (df_merged['order_date'] <= df_merged['reference_date']) \n",
    "]\n",
    "# 고객별 카테고리별 구매 건수\n",
    "recent_30day = recent_30days.groupby(['customer_id', 'category'])['order_date'].count()\n",
    "\n",
    "top5_cust = recent_30day.head(5)\n",
    "\n",
    "customer_ids = top5_cust.index.get_level_values('customer_id').unique()\n",
    "\n",
    "# 2. 해당 고객의 구매 이력 필터링\n",
    "filtered = df_merged[df_merged['customer_id'].isin(customer_ids)]"
   ]
  }
 ],
 "metadata": {
  "kernelspec": {
   "display_name": "pandas_numpy",
   "language": "python",
   "name": "python3"
  },
  "language_info": {
   "codemirror_mode": {
    "name": "ipython",
    "version": 3
   },
   "file_extension": ".py",
   "mimetype": "text/x-python",
   "name": "python",
   "nbconvert_exporter": "python",
   "pygments_lexer": "ipython3",
   "version": "3.11.13"
  }
 },
 "nbformat": 4,
 "nbformat_minor": 5
}
