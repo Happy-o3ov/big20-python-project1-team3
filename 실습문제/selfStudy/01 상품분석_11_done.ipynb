{
 "cells": [
  {
   "cell_type": "code",
   "execution_count": 1,
   "metadata": {},
   "outputs": [
    {
     "name": "stdout",
     "output_type": "stream",
     "text": [
      "한글 폰트 설정이 완료되었습니다.\n"
     ]
    }
   ],
   "source": [
    "# 1. 파이썬 코드에서 Matplotlib 폰트 설정\n",
    "import matplotlib.pyplot as plt\n",
    "import pandas as pd\n",
    "import seaborn as sns\n",
    "import numpy as np\n",
    "from datetime import timedelta\n",
    "from itertools import combinations\n",
    "from collections import Counter\n",
    "\n",
    "# 폰트 설정\n",
    "plt.rc('font', family='Malgun Gothic')\n",
    "# 마이너스 부호 깨짐 방지\n",
    "plt.rcParams['axes.unicode_minus'] = False\n",
    "\n",
    "print(\"한글 폰트 설정이 완료되었습니다.\")\n"
   ]
  },
  {
   "cell_type": "code",
   "execution_count": 6,
   "metadata": {},
   "outputs": [
    {
     "name": "stdout",
     "output_type": "stream",
     "text": [
      "데이터 로드 및 통합이 완료되었습니다.\n"
     ]
    }
   ],
   "source": [
    "# 3. 데이터 로드 및 통합 (모든 문제 풀이의 시작점)\n",
    "# dataframe 확인해라!\n",
    "try:\n",
    "    orders_df = pd.read_csv('../data/orders.csv')\n",
    "    payments_df = pd.read_csv('../data/payments.csv')\n",
    "    products_df = pd.read_csv('../data/products.csv')\n",
    "    shipping_df = pd.read_csv('../data/shipping.csv')\n",
    "    customers_df = pd.read_csv('../data/customers.csv')\n",
    "\n",
    "    # 모든 데이터프레임 병합\n",
    "    df = pd.merge(orders_df, payments_df, on='order_id', how='left')\n",
    "    df = pd.merge(df, products_df, on='product_id', how='left')\n",
    "    df = pd.merge(df, customers_df, on='customer_id', how='left')\n",
    "    df = pd.merge(df, shipping_df, on='order_id', how='left')\n",
    "\n",
    "    # 데이터 전처리\n",
    "    date_cols = ['order_date', 'payment_date', 'join_date', 'shipping_start_date', 'shipping_end_date']\n",
    "    for col in date_cols:\n",
    "        df[col] = pd.to_datetime(df[col], errors='coerce')\n",
    "    df['total_sales'] = df['quantity'] * df['price']\n",
    "    \n",
    "    print(\"데이터 로드 및 통합이 완료되었습니다.\")\n",
    "\n",
    "except FileNotFoundError as e:\n",
    "    print(f\"파일을 찾을 수 없습니다: {e}\")\n"
   ]
  },
  {
   "cell_type": "code",
   "execution_count": null,
   "metadata": {},
   "outputs": [],
   "source": [
    "# 문제 11: 상품명에 특정 키워드가 포함된 상품들의 평균 가격과 다른 상품들의 평균 가격을 비교하세요.\n",
    "# - 특정 키워드 : '스포츠용품'\n",
    "# 비즈니스 목적: 상품 네이밍 전략이 가격 책정에 미치는 영향을 간접적으로 분석하고, 프리미엄 라인업 등의 키워드 전략을 평가합니다."
   ]
  },
  {
   "cell_type": "code",
   "execution_count": 7,
   "metadata": {},
   "outputs": [
    {
     "data": {
      "text/plain": [
       "Index(['order_id', 'customer_id', 'product_id', 'order_date', 'quantity',\n",
       "       'payment_id', 'payment_method', 'payment_status', 'payment_date',\n",
       "       'product_name', 'category', 'price', 'stock', 'name', 'gender', 'age',\n",
       "       'join_date', 'city', 'shipping_id', 'shipping_company',\n",
       "       'shipping_status', 'shipping_start_date', 'shipping_end_date',\n",
       "       'total_sales'],\n",
       "      dtype='object')"
      ]
     },
     "execution_count": 7,
     "metadata": {},
     "output_type": "execute_result"
    }
   ],
   "source": [
    "# 출력 결과를 보고 코딩하세요\n",
    "result = \"\"\" \n",
    "'스포츠용품' 포함 상품 평균 가격: 56,466원\n",
    "그 외 상품 평균 가격: 54,679원\n",
    "\"\"\"\n",
    "df.columns"
   ]
  },
  {
   "cell_type": "code",
   "execution_count": 13,
   "metadata": {},
   "outputs": [
    {
     "name": "stdout",
     "output_type": "stream",
     "text": [
      "'스포츠용품' 평균 가격: 56,466원\n",
      "그 외 평균 가격: 54,679원\n"
     ]
    }
   ],
   "source": [
    "# 상품명에 스포츠용품이 들어간 것과 아닌 상품 나누기 \n",
    "# df_quest11 = df[['product_name', 'price']].copy()\n",
    "\n",
    "# '스포츠용품' 포함 여부로 그룹 분류,\n",
    "# df_quest11['is_sports'] = df_quest11['product_name'].str.contains('스포츠용품', na=False)\n",
    "\n",
    "# 한방에 필요한 데이터 가져오기 \n",
    "df_quest11 =(df[['product_name', 'price']]\n",
    "          .copy()\n",
    "          # is_sports 컬럼 추가 : 상품명에 '스포츠용품'이 들어 잇으면 True, 아니면 False\n",
    "          .assign(is_sports=lambda x: x['product_name'].str.contains('스포츠용품', na=False))\n",
    "          )\n",
    "# df_quest11.head() # 검증용\n",
    "\n",
    "# is_sport 그룹별 평균 가격 계산\n",
    "avg_prices = df_quest11.groupby('is_sports')['price'].mean() # series로 리턴\n",
    "\n",
    "# 결과 출력\n",
    "print(f\"'스포츠용품' 평균 가격: {avg_prices[True]:,.0f}원\")\n",
    "print(f\"그 외 평균 가격: {avg_prices[False]:,.0f}원\")\n",
    "\n",
    "      "
   ]
  },
  {
   "cell_type": "code",
   "execution_count": null,
   "metadata": {},
   "outputs": [],
   "source": []
  }
 ],
 "metadata": {
  "kernelspec": {
   "display_name": "pandas_numpy",
   "language": "python",
   "name": "python3"
  },
  "language_info": {
   "codemirror_mode": {
    "name": "ipython",
    "version": 3
   },
   "file_extension": ".py",
   "mimetype": "text/x-python",
   "name": "python",
   "nbconvert_exporter": "python",
   "pygments_lexer": "ipython3",
   "version": "3.11.13"
  },
  "orig_nbformat": 4
 },
 "nbformat": 4,
 "nbformat_minor": 2
}
