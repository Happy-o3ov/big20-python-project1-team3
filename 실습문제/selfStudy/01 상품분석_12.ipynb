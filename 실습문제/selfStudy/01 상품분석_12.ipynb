{
 "cells": [
  {
   "cell_type": "code",
   "execution_count": 1,
   "metadata": {},
   "outputs": [
    {
     "name": "stdout",
     "output_type": "stream",
     "text": [
      "한글 폰트 설정이 완료되었습니다.\n"
     ]
    }
   ],
   "source": [
    "# 1. 파이썬 코드에서 Matplotlib 폰트 설정\n",
    "import matplotlib.pyplot as plt\n",
    "import pandas as pd\n",
    "import seaborn as sns\n",
    "import numpy as np\n",
    "from datetime import timedelta\n",
    "from itertools import combinations\n",
    "from collections import Counter\n",
    "\n",
    "# 폰트 설정\n",
    "plt.rc('font', family='Malgun Gothic')\n",
    "# 마이너스 부호 깨짐 방지\n",
    "plt.rcParams['axes.unicode_minus'] = False\n",
    "\n",
    "print(\"한글 폰트 설정이 완료되었습니다.\")\n"
   ]
  },
  {
   "cell_type": "code",
   "execution_count": 2,
   "metadata": {},
   "outputs": [
    {
     "name": "stdout",
     "output_type": "stream",
     "text": [
      "데이터 로드 및 통합이 완료되었습니다.\n"
     ]
    }
   ],
   "source": [
    "# 3. 데이터 로드 및 통합 (모든 문제 풀이의 시작점)\n",
    "# dataframe 확인해라!\n",
    "try:\n",
    "    orders_df = pd.read_csv('../data/orders.csv')\n",
    "    payments_df = pd.read_csv('../data/payments.csv')\n",
    "    products_df = pd.read_csv('../data/products.csv')\n",
    "    shipping_df = pd.read_csv('../data/shipping.csv')\n",
    "    customers_df = pd.read_csv('../data/customers.csv')\n",
    "\n",
    "    # 모든 데이터프레임 병합\n",
    "    df = pd.merge(orders_df, payments_df, on='order_id', how='left')\n",
    "    df = pd.merge(df, products_df, on='product_id', how='left')\n",
    "    df = pd.merge(df, customers_df, on='customer_id', how='left')\n",
    "    df = pd.merge(df, shipping_df, on='order_id', how='left')\n",
    "\n",
    "    # 데이터 전처리\n",
    "    date_cols = ['order_date', 'payment_date', 'join_date', 'shipping_start_date', 'shipping_end_date']\n",
    "    for col in date_cols:\n",
    "        df[col] = pd.to_datetime(df[col], errors='coerce')\n",
    "    df['total_sales'] = df['quantity'] * df['price']\n",
    "    \n",
    "    print(\"데이터 로드 및 통합이 완료되었습니다.\")\n",
    "\n",
    "except FileNotFoundError as e:\n",
    "    print(f\"파일을 찾을 수 없습니다: {e}\")\n"
   ]
  },
  {
   "cell_type": "code",
   "execution_count": null,
   "metadata": {},
   "outputs": [],
   "source": [
    "# 문제 12: 월별 매출액과 해당 월의 신규 상품 출시 수 간의 상관관계를 분석하세요.\n",
    "# 비즈니스 목적: 신상품 출시라는 비즈니스 활동이 매출 성과에 얼마나 긍정적인 영향을 미치는지 정량적으로 파악합니다.\n",
    "\n",
    "# product_id 순서를 출시 순서로 가정하여 가상의 출시일 생성\n",
    "products_df_sorted = products_df.sort_values('product_id').reset_index(drop=True)\n",
    "# 첫 주문일부터 마지막 주문일까지의 기간을 상품 수만큼 균등하게 나누어 출시일 부여\n",
    "launch_dates = pd.to_datetime(np.linspace(df['order_date'].min().value, df['order_date'].max().value, len(products_df_sorted)))"
   ]
  },
  {
   "cell_type": "code",
   "execution_count": null,
   "metadata": {},
   "outputs": [
    {
     "name": "stdout",
     "output_type": "stream",
     "text": [
      "월별 매출액과 신규 상품 출시 수 간의 상관관계:\n",
      "              total_sales  new_products\n",
      "total_sales      1.000000      0.916278\n",
      "new_products     0.916278      1.000000\n"
     ]
    }
   ],
   "source": [
    "# 출력 결과를 보고 코딩하세요\n",
    "\n",
    "results = '''\n",
    "월별 매출액과 신규 상품 출시 수 간의 상관관계:\n",
    "              total_sales  new_products\n",
    "total_sales      1.000000      0.916278\n",
    "new_products     0.916278      1.000000\n",
    "'''"
   ]
  },
  {
   "cell_type": "code",
   "execution_count": null,
   "metadata": {},
   "outputs": [],
   "source": [
    "# 필요한 데이터, 월별 매출액, 신규 상품출시 수 \n",
    "\n",
    "\n",
    "\n"
   ]
  }
 ],
 "metadata": {
  "kernelspec": {
   "display_name": "pandas_numpy",
   "language": "python",
   "name": "python3"
  },
  "language_info": {
   "codemirror_mode": {
    "name": "ipython",
    "version": 3
   },
   "file_extension": ".py",
   "mimetype": "text/x-python",
   "name": "python",
   "nbconvert_exporter": "python",
   "pygments_lexer": "ipython3",
   "version": "3.11.13"
  },
  "orig_nbformat": 4
 },
 "nbformat": 4,
 "nbformat_minor": 2
}
