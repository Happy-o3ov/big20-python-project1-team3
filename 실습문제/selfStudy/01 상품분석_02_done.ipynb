{
 "cells": [
  {
   "cell_type": "code",
   "execution_count": 2,
   "metadata": {},
   "outputs": [
    {
     "name": "stdout",
     "output_type": "stream",
     "text": [
      "한글 폰트 설정이 완료되었습니다.\n"
     ]
    }
   ],
   "source": [
    "# 1. 파이썬 코드에서 Matplotlib 폰트 설정\n",
    "import matplotlib.pyplot as plt\n",
    "import pandas as pd\n",
    "import seaborn as sns\n",
    "import numpy as np\n",
    "from datetime import timedelta\n",
    "from itertools import combinations\n",
    "from collections import Counter\n",
    "\n",
    "# 폰트 설정\n",
    "plt.rc('font', family='Malgun Gothic')\n",
    "# 마이너스 부호 깨짐 방지\n",
    "plt.rcParams['axes.unicode_minus'] = False\n",
    "\n",
    "print(\"한글 폰트 설정이 완료되었습니다.\")\n"
   ]
  },
  {
   "cell_type": "code",
   "execution_count": 3,
   "metadata": {},
   "outputs": [
    {
     "name": "stdout",
     "output_type": "stream",
     "text": [
      "데이터 로드 및 통합이 완료되었습니다.\n"
     ]
    }
   ],
   "source": [
    "# 3. 데이터 로드 및 통합 (모든 문제 풀이의 시작점)\n",
    "# dataframe 확인해라!\n",
    "try:\n",
    "    orders_df = pd.read_csv('../data/orders.csv')\n",
    "    payments_df = pd.read_csv('../data/payments.csv')\n",
    "    products_df = pd.read_csv('../data/products.csv')\n",
    "    shipping_df = pd.read_csv('../data/shipping.csv')\n",
    "    customers_df = pd.read_csv('../data/customers.csv')\n",
    "\n",
    "    # 모든 데이터프레임 병합\n",
    "    df = pd.merge(orders_df, payments_df, on='order_id', how='left')\n",
    "    df = pd.merge(df, products_df, on='product_id', how='left')\n",
    "    df = pd.merge(df, customers_df, on='customer_id', how='left')\n",
    "    df = pd.merge(df, shipping_df, on='order_id', how='left')\n",
    "\n",
    "    # 데이터 전처리\n",
    "    date_cols = ['order_date', 'payment_date', 'join_date', 'shipping_start_date', 'shipping_end_date']\n",
    "    for col in date_cols:\n",
    "        df[col] = pd.to_datetime(df[col], errors='coerce')\n",
    "    df['total_sales'] = df['quantity'] * df['price']\n",
    "    \n",
    "    print(\"데이터 로드 및 통합이 완료되었습니다.\")\n",
    "\n",
    "except FileNotFoundError as e:\n",
    "    print(f\"파일을 찾을 수 없습니다: {e}\")\n"
   ]
  },
  {
   "cell_type": "code",
   "execution_count": 13,
   "metadata": {},
   "outputs": [],
   "source": [
    "# 문제 2: 고객별 재주문까지 걸리는 평균 시간을 분석하고, 가장 재구매 주기가 짧은 충성 고객 TOP 5를 찾으세요.\n",
    "# 시각화: 바 차트\n",
    "\n",
    "# 비즈니스 목적: 고객의 재구매 주기를 파악하여, 주기에 맞춘 리마인드 알림이나 프로모션을 통해 고객의 이탈을 방지하고 재구매를 유도합니다."
   ]
  },
  {
   "cell_type": "code",
   "execution_count": 52,
   "metadata": {},
   "outputs": [
    {
     "name": "stdout",
     "output_type": "stream",
     "text": [
      "재구매 주기가 가장 짧은 고객 TOP 5 (일):\n"
     ]
    },
    {
     "data": {
      "text/plain": [
       "customer_id\n",
       "C0473    1.0\n",
       "C0204    4.0\n",
       "C0940    5.0\n",
       "C0401    5.0\n",
       "C1892    5.0\n",
       "Name: time_since_last_order, dtype: float64"
      ]
     },
     "execution_count": 52,
     "metadata": {},
     "output_type": "execute_result"
    }
   ],
   "source": [
    "# 출력 결과를 보고 코딩하세요\n",
    "# Q: 고객별 재주문까지 걸리는 평균 시간을 분석하고, 가장 재구매 주기가 짧은 충성 고객 TOP 5를 찾으세요.\n",
    "# df.columns\n",
    "''' \n",
    "Index(['order_id', 'customer_id', 'product_id', 'order_date', 'quantity',\n",
    "       'payment_id', 'payment_method', 'payment_status', 'payment_date',\n",
    "       'product_name', 'category', 'price', 'stock', 'name', 'gender', 'age',\n",
    "       'join_date', 'city', 'shipping_id', 'shipping_company',\n",
    "       'shipping_status', 'shipping_start_date', 'shipping_end_date',\n",
    "       'total_sales', 'year_month'],\n",
    "      dtype='object')\n",
    "'''\n",
    "\n",
    "# 고객별, 주문일자를 groupby 하고 그 주문일자의 간격을 구하고, 평균시간을 일자로 정리하기 \n",
    "# 고객별 재구매 평균 시간 계산\n",
    "\n",
    "avg_repurchase_time_top5 = (\n",
    "    df.sort_values(['customer_id', 'order_date']) \n",
    "    .groupby('customer_id')['order_date']\n",
    "    .apply(lambda x: x.diff().dt.days.mean() if len(x) > 1 else np.nan)\n",
    "    .rename('time_since_last_order')\n",
    "    .sort_values()\n",
    ")\n",
    "# 출력물에 있는 이름으로 시리즈 변경\n",
    "# avg_repurchase_time_top5.name = 'time_since_last_order'\n",
    "# TOP5 만 가져오기 (그래프를 그리기 위해서 )\n",
    "time_since_last_order_top5 = avg_repurchase_time_top5.head()\n",
    "\n",
    "print(f'재구매 주기가 가장 짧은 고객 TOP 5 (일):')\n",
    "# avg_repurchase_time.head()\n",
    "time_since_last_order_top5\n"
   ]
  },
  {
   "cell_type": "code",
   "execution_count": null,
   "metadata": {},
   "outputs": [
    {
     "data": {
      "image/png": "[encoded data removed]",
      "text/plain": [
       "<Figure size 1000x600 with 1 Axes>"
      ]
     },
     "metadata": {},
     "output_type": "display_data"
    }
   ],
   "source": [
    "# 그래프 그리기\n",
    "plt.figure(figsize=(10, 6))\n",
    "# barh 그래프 선택 \n",
    "plt.barh(\n",
    "  time_since_last_order_top5.index    # x축 \n",
    "  , time_since_last_order_top5.values # y축\n",
    "  , height=0.5                        # barh 하나당 height\n",
    "  )\n",
    "# y축 역순으로 그리기 \n",
    "plt.gca().invert_yaxis()\n",
    "\n",
    "plt.xlabel('평균 재구매 소요 시간 (일)')\n",
    "plt.ylabel('고객 ID')\n",
    "plt.title('재구매 주기가 가장 짧은 충성 고객 TOP 5')\n",
    "plt.grid(axis='x', alpha=0.3)\n",
    "plt.tight_layout()\n",
    "plt.show()\n"
   ]
  }
 ],
 "metadata": {
  "kernelspec": {
   "display_name": "pandas_numpy",
   "language": "python",
   "name": "python3"
  },
  "language_info": {
   "codemirror_mode": {
    "name": "ipython",
    "version": 3
   },
   "file_extension": ".py",
   "mimetype": "text/x-python",
   "name": "python",
   "nbconvert_exporter": "python",
   "pygments_lexer": "ipython3",
   "version": "3.11.13"
  },
  "orig_nbformat": 4
 },
 "nbformat": 4,
 "nbformat_minor": 2
}
