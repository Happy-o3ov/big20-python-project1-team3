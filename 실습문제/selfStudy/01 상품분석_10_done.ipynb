{
 "cells": [
  {
   "cell_type": "code",
   "execution_count": 76,
   "metadata": {},
   "outputs": [
    {
     "name": "stdout",
     "output_type": "stream",
     "text": [
      "한글 폰트 설정이 완료되었습니다.\n"
     ]
    }
   ],
   "source": [
    "# 1. 파이썬 코드에서 Matplotlib 폰트 설정\n",
    "import matplotlib.pyplot as plt\n",
    "import pandas as pd\n",
    "import seaborn as sns\n",
    "import numpy as np\n",
    "from datetime import timedelta\n",
    "from itertools import combinations\n",
    "from collections import Counter\n",
    "\n",
    "# 폰트 설정\n",
    "plt.rc('font', family='Malgun Gothic')\n",
    "# 마이너스 부호 깨짐 방지\n",
    "plt.rcParams['axes.unicode_minus'] = False\n",
    "\n",
    "print(\"한글 폰트 설정이 완료되었습니다.\")\n"
   ]
  },
  {
   "cell_type": "code",
   "execution_count": 77,
   "metadata": {},
   "outputs": [
    {
     "name": "stdout",
     "output_type": "stream",
     "text": [
      "데이터 로드 및 통합이 완료되었습니다.\n"
     ]
    }
   ],
   "source": [
    "# 3. 데이터 로드 및 통합 (모든 문제 풀이의 시작점)\n",
    "# dataframe 확인해라!\n",
    "try:\n",
    "    orders_df = pd.read_csv('../data/orders.csv')\n",
    "    payments_df = pd.read_csv('../data/payments.csv')\n",
    "    products_df = pd.read_csv('../data/products.csv')\n",
    "    shipping_df = pd.read_csv('../data/shipping.csv')\n",
    "    customers_df = pd.read_csv('../data/customers.csv')\n",
    "\n",
    "    # 모든 데이터프레임 병합\n",
    "    df = pd.merge(orders_df, payments_df, on='order_id', how='left')\n",
    "    df = pd.merge(df, products_df, on='product_id', how='left')\n",
    "    df = pd.merge(df, customers_df, on='customer_id', how='left')\n",
    "    df = pd.merge(df, shipping_df, on='order_id', how='left')\n",
    "\n",
    "    # 데이터 전처리\n",
    "    date_cols = ['order_date', 'payment_date', 'join_date', 'shipping_start_date', 'shipping_end_date']\n",
    "    for col in date_cols:\n",
    "        df[col] = pd.to_datetime(df[col], errors='coerce')\n",
    "    df['total_sales'] = df['quantity'] * df['price']\n",
    "    \n",
    "    print(\"데이터 로드 및 통합이 완료되었습니다.\")\n",
    "\n",
    "except FileNotFoundError as e:\n",
    "    print(f\"파일을 찾을 수 없습니다: {e}\")\n"
   ]
  },
  {
   "cell_type": "code",
   "execution_count": null,
   "metadata": {},
   "outputs": [],
   "source": [
    "# 문제 10: 주문 취소가 가장 빈번한 상품 상위 5개를 찾고, 이들 상품의 공통적인 특징을 분석하세요.\n",
    "# 비즈니스 목적: 취소율이 높은 상품의 원인을 파악(예: 불충분한 상품 설명, 높은 가격)하여 운영 효율성을 개선하고 매출 손실을 줄입니다."
   ]
  },
  {
   "cell_type": "code",
   "execution_count": null,
   "metadata": {},
   "outputs": [
    {
     "name": "stdout",
     "output_type": "stream",
     "text": [
      "주문 취소(결제 대기)가 잦은 상품 TOP 5:\n",
      "product_name\n",
      "화장품 상품_160     5\n",
      "스포츠용품 상품_6     4\n",
      "화장품 상품_256     4\n",
      "전자제품 상품_159    4\n",
      "의류 상품_132      4\n",
      "Name: count, dtype: int64\n",
      "\n",
      "해당 상품들의 특징:\n",
      "             category  avg_price  avg_stock\n",
      "product_name                               \n",
      "스포츠용품 상품_6        화장품    74300.0        2.0\n",
      "의류 상품_132          식품     6600.0       39.0\n",
      "전자제품 상품_159        식품    57500.0       32.0\n",
      "화장품 상품_160      스포츠용품    51600.0        5.0\n",
      "화장품 상품_256         도서    16500.0       24.0\n"
     ]
    }
   ],
   "source": [
    "# 출력 결과를 보고 코딩하세요"
   ]
  },
  {
   "cell_type": "code",
   "execution_count": 51,
   "metadata": {},
   "outputs": [
    {
     "data": {
      "text/plain": [
       "Index(['order_id', 'customer_id', 'product_id', 'order_date', 'quantity',\n",
       "       'payment_id', 'payment_method', 'payment_status', 'payment_date',\n",
       "       'product_name', 'category', 'price', 'stock', 'name', 'gender', 'age',\n",
       "       'join_date', 'city', 'shipping_id', 'shipping_company',\n",
       "       'shipping_status', 'shipping_start_date', 'shipping_end_date',\n",
       "       'total_sales'],\n",
       "      dtype='object')"
      ]
     },
     "execution_count": 51,
     "metadata": {},
     "output_type": "execute_result"
    }
   ],
   "source": [
    "# 문제 10: 주문 취소가 가장 빈번한 상품 상위 5개를 찾고, 이들 상품의 공통적인 특징을 분석하세요.\n",
    "df.columns\n"
   ]
  },
  {
   "cell_type": "code",
   "execution_count": null,
   "metadata": {},
   "outputs": [],
   "source": [
    "df[(df['product_name'] == '화장품 상품_256')][['product_id', 'product_name', 'category', 'payment_status', 'shipping_status']]"
   ]
  },
  {
   "cell_type": "code",
   "execution_count": null,
   "metadata": {},
   "outputs": [
    {
     "name": "stdout",
     "output_type": "stream",
     "text": [
      "주문 취소(결제 대기)가 잦은 상품 TOP 5:\n",
      "\n",
      "해당 상품들의 특징:\n",
      "             category  avg_price  avg_stock\n",
      "product_name                               \n",
      "화장품 상품_160      스포츠용품    51600.0        5.0\n",
      "의류 상품_132          식품     6600.0       39.0\n",
      "전자제품 상품_159        식품    57500.0       32.0\n",
      "화장품 상품_256         도서    16500.0       24.0\n",
      "스포츠용품 상품_6        화장품    74300.0        2.0\n",
      "\n",
      "해당 상품들의 특징:\n",
      "             category  avg_price  avg_stock\n",
      "product_name                               \n",
      "화장품 상품_160      스포츠용품    51600.0        5.0\n",
      "의류 상품_132          식품     6600.0       39.0\n",
      "전자제품 상품_159        식품    57500.0       32.0\n",
      "화장품 상품_256         도서    16500.0       24.0\n",
      "스포츠용품 상품_6        화장품    74300.0        2.0\n"
     ]
    }
   ],
   "source": [
    "# df['payment_status'].unique() # array(['Completed', 'Failed', 'Pending'], dtype=object)\n",
    "# df['shipping_status'].unique() # array(['Delivered', 'Shipped', 'Preparing', nan, 'Cancelled'],  dtype=object)\n",
    "\n",
    "# 주문 취소 상품 필요한 데이터 추출\n",
    "need_cols = ['product_id', 'product_name', 'quantity', 'payment_status', 'shipping_status', 'category', 'price', 'stock']\n",
    "df_quest10 = df[\n",
    "    (df['payment_status'] == 'Pending') \n",
    "    # (df['shipping_status'].isna()) |\n",
    "    # (df['shipping_status'] == 'Cancelled')\n",
    "    ][need_cols].copy()\n",
    "# df_quest10.info()\n",
    "# df_quest10.head(20)\n",
    "\n",
    "# TOP 5 출력 (product_name 인덱스의 Series)\n",
    "print(\"주문 취소(결제 대기)가 잦은 상품 TOP 5:\")\n",
    "df_quest10['product_name'].value_counts().head(5)\n",
    "\n",
    "# 전체 상품의 특징 구하기\n",
    "print(\"\\n해당 상품들의 특징:\")\n",
    "features = df_quest10.groupby('product_name').agg({\n",
    "    'category': 'first',\n",
    "    'price': 'mean',\n",
    "    'stock': 'mean',\n",
    "    'product_name': 'count'\n",
    "}).rename(columns={'price': 'avg_price', 'stock': 'avg_stock', 'product_name': 'count'})\n",
    "\n",
    "# count 기준으로 정렬 후 TOP 5만 출력 (count 컬럼 제외)\n",
    "print(features.sort_values('count', ascending=False).head(5)[['category', 'avg_price', 'avg_stock']])\n",
    "\n",
    "# 해당 상품들의 특징\n",
    "print(\"\\n해당 상품들의 특징:\")\n",
    "# count 기준으로 정렬 후 TOP 5만 출력 (count 컬럼 제외)\n",
    "print(features.sort_values('count', ascending=False).head()[['category', 'avg_price', 'avg_stock']])"
   ]
  },
  {
   "cell_type": "code",
   "execution_count": null,
   "metadata": {},
   "outputs": [],
   "source": []
  }
 ],
 "metadata": {
  "kernelspec": {
   "display_name": "pandas_numpy",
   "language": "python",
   "name": "python3"
  },
  "language_info": {
   "codemirror_mode": {
    "name": "ipython",
    "version": 3
   },
   "file_extension": ".py",
   "mimetype": "text/x-python",
   "name": "python",
   "nbconvert_exporter": "python",
   "pygments_lexer": "ipython3",
   "version": "3.11.13"
  },
  "orig_nbformat": 4
 },
 "nbformat": 4,
 "nbformat_minor": 2
}
