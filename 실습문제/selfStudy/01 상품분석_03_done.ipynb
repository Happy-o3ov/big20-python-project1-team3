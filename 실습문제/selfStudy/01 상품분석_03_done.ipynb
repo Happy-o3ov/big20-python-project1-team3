{
 "cells": [
  {
   "cell_type": "code",
   "execution_count": 2,
   "metadata": {},
   "outputs": [
    {
     "name": "stdout",
     "output_type": "stream",
     "text": [
      "한글 폰트 설정이 완료되었습니다.\n"
     ]
    }
   ],
   "source": [
    "# 1. 파이썬 코드에서 Matplotlib 폰트 설정\n",
    "import matplotlib.pyplot as plt\n",
    "import pandas as pd\n",
    "import seaborn as sns\n",
    "import numpy as np\n",
    "from datetime import timedelta\n",
    "from itertools import combinations\n",
    "from collections import Counter\n",
    "\n",
    "# 폰트 설정\n",
    "plt.rc('font', family='Malgun Gothic')\n",
    "# 마이너스 부호 깨짐 방지\n",
    "plt.rcParams['axes.unicode_minus'] = False\n",
    "\n",
    "print(\"한글 폰트 설정이 완료되었습니다.\")\n"
   ]
  },
  {
   "cell_type": "code",
   "execution_count": 3,
   "metadata": {},
   "outputs": [
    {
     "name": "stdout",
     "output_type": "stream",
     "text": [
      "데이터 로드 및 통합이 완료되었습니다.\n"
     ]
    }
   ],
   "source": [
    "# 3. 데이터 로드 및 통합 (모든 문제 풀이의 시작점)\n",
    "# dataframe 확인해라!\n",
    "try:\n",
    "    orders_df = pd.read_csv('../data/orders.csv')\n",
    "    payments_df = pd.read_csv('../data/payments.csv')\n",
    "    products_df = pd.read_csv('../data/products.csv')\n",
    "    shipping_df = pd.read_csv('../data/shipping.csv')\n",
    "    customers_df = pd.read_csv('../data/customers.csv')\n",
    "\n",
    "    # 모든 데이터프레임 병합\n",
    "    df = pd.merge(orders_df, payments_df, on='order_id', how='left')\n",
    "    df = pd.merge(df, products_df, on='product_id', how='left')\n",
    "    df = pd.merge(df, customers_df, on='customer_id', how='left')\n",
    "    df = pd.merge(df, shipping_df, on='order_id', how='left')\n",
    "\n",
    "    # 데이터 전처리\n",
    "    date_cols = ['order_date', 'payment_date', 'join_date', 'shipping_start_date', 'shipping_end_date']\n",
    "    for col in date_cols:\n",
    "        df[col] = pd.to_datetime(df[col], errors='coerce')\n",
    "    df['total_sales'] = df['quantity'] * df['price']\n",
    "    \n",
    "    print(\"데이터 로드 및 통합이 완료되었습니다.\")\n",
    "\n",
    "except FileNotFoundError as e:\n",
    "    print(f\"파일을 찾을 수 없습니다: {e}\")\n"
   ]
  },
  {
   "cell_type": "code",
   "execution_count": null,
   "metadata": {},
   "outputs": [],
   "source": [
    "# 문제 3: 재구매율이 가장 높은 상위 10개 상품을 찾으세요.\n",
    "# 비즈니스 목적: 고객 충성도가 높은 상품을 파악하고, 해당 상품의 재고를 안정적으로 관리하거나 충성 고객 대상 마케팅에 활용합니다."
   ]
  },
  {
   "cell_type": "code",
   "execution_count": null,
   "metadata": {},
   "outputs": [
    {
     "name": "stdout",
     "output_type": "stream",
     "text": [
      "재구매율 상위 10개 상품:\n",
      "product_name\n",
      "스포츠용품 상품_107    0.090909\n",
      "가구 상품_2         0.066667\n",
      "의류 상품_441       0.066667\n",
      "스포츠용품 상품_498    0.062500\n",
      "도서 상품_103       0.062500\n",
      "화장품 상품_490      0.058824\n",
      "화장품 상품_262      0.058824\n",
      "의류 상품_265       0.058824\n",
      "화장품 상품_422      0.055556\n",
      "화장품 상품_8        0.055556\n",
      "Name: customer_id, dtype: float64\n"
     ]
    }
   ],
   "source": [
    "# 출력 결과를 보고 코딩하세요\n"
   ]
  },
  {
   "cell_type": "code",
   "execution_count": null,
   "metadata": {},
   "outputs": [
    {
     "name": "stdout",
     "output_type": "stream",
     "text": [
      "재구매율 상위 10개 상품:\n",
      "product_name\n",
      "스포츠용품 상품_107    0.090909\n",
      "가구 상품_2         0.066667\n",
      "의류 상품_441       0.066667\n",
      "스포츠용품 상품_498    0.062500\n",
      "도서 상품_103       0.062500\n",
      "화장품 상품_490      0.058824\n",
      "화장품 상품_262      0.058824\n",
      "의류 상품_265       0.058824\n",
      "화장품 상품_422      0.055556\n",
      "화장품 상품_8        0.055556\n",
      "Name: customer_id, dtype: float64\n"
     ]
    }
   ],
   "source": [
    "# df.columns\n",
    "''' \n",
    "Index(['order_id', 'customer_id', 'product_id', 'order_date', 'quantity',\n",
    "       'payment_id', 'payment_method', 'payment_status', 'payment_date',\n",
    "       'product_name', 'category', 'price', 'stock', 'name', 'gender', 'age',\n",
    "       'join_date', 'city', 'shipping_id', 'shipping_company',\n",
    "       'shipping_status', 'shipping_start_date', 'shipping_end_date',\n",
    "       'total_sales', 'year_month'],\n",
    "      dtype='object')\n",
    "'''\n",
    "# 재구매율이 가장 높은 상위 10개 상품을 찾으세요\n",
    "# 재구매율 : 제품별 고객별 2번 이상 구매한 수 / 제품별 고객별 2번 이상 구매한 전체 합 \n",
    "\n",
    "# 제품명별, 고객별 그룹핑 결과 A\n",
    "''' \n",
    "product_name  customer_id\n",
    "가구 상품_111     C0133          1\n",
    "              C0165          1\n",
    "              C0276          1\n",
    "              C0297          1\n",
    "              C0345          1\n",
    "                            ..\n",
    "nunique() \n",
    "'''\n",
    "repurchase_rate = (\n",
    "    df.groupby(['product_name', 'customer_id']) # 제품명별, 고객별 그룹핑 \n",
    "    .size() # 구매 횟수 count : A\n",
    "    .groupby('product_name') # 그걸 다시 제품명으로 그룹핑 <pandas.core.groupby.generic.SeriesGroupBy object at 0x000002228D2073D0>\n",
    "    .apply(lambda x: (x >= 2).sum() / len(x)) # 재구매율 계산 : len(x) 전체 갯수 나옴 \n",
    "    .rename('customer_id') # <pandas.core.groupby.generic.SeriesGroupBy object at 0x000002228D2073D0> rename\n",
    "    .sort_values(ascending=False) # 오름차순으로 정렬\n",
    "    .head(10) # top 10개만 가져오기 \n",
    ")\n",
    "\n",
    "print(f'재구매율 상위 10개 상품:')\n",
    "print(repurchase_rate)\n"
   ]
  }
 ],
 "metadata": {
  "kernelspec": {
   "display_name": "pandas_numpy",
   "language": "python",
   "name": "python3"
  },
  "language_info": {
   "codemirror_mode": {
    "name": "ipython",
    "version": 3
   },
   "file_extension": ".py",
   "mimetype": "text/x-python",
   "name": "python",
   "nbconvert_exporter": "python",
   "pygments_lexer": "ipython3",
   "version": "3.11.13"
  },
  "orig_nbformat": 4
 },
 "nbformat": 4,
 "nbformat_minor": 2
}
