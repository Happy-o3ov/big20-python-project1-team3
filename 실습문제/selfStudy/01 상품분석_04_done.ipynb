{
 "cells": [
  {
   "cell_type": "code",
   "execution_count": 2,
   "metadata": {},
   "outputs": [
    {
     "name": "stdout",
     "output_type": "stream",
     "text": [
      "한글 폰트 설정이 완료되었습니다.\n"
     ]
    }
   ],
   "source": [
    "# 1. 파이썬 코드에서 Matplotlib 폰트 설정\n",
    "import matplotlib.pyplot as plt\n",
    "import pandas as pd\n",
    "import seaborn as sns\n",
    "import numpy as np\n",
    "from datetime import timedelta\n",
    "from itertools import combinations\n",
    "from collections import Counter\n",
    "\n",
    "# 폰트 설정\n",
    "plt.rc('font', family='Malgun Gothic')\n",
    "# 마이너스 부호 깨짐 방지\n",
    "plt.rcParams['axes.unicode_minus'] = False\n",
    "\n",
    "print(\"한글 폰트 설정이 완료되었습니다.\")\n"
   ]
  },
  {
   "cell_type": "code",
   "execution_count": 3,
   "metadata": {},
   "outputs": [
    {
     "name": "stdout",
     "output_type": "stream",
     "text": [
      "데이터 로드 및 통합이 완료되었습니다.\n"
     ]
    }
   ],
   "source": [
    "# 3. 데이터 로드 및 통합 (모든 문제 풀이의 시작점)\n",
    "# dataframe 확인해라!\n",
    "try:\n",
    "    orders_df = pd.read_csv('../data/orders.csv')\n",
    "    payments_df = pd.read_csv('../data/payments.csv')\n",
    "    products_df = pd.read_csv('../data/products.csv')\n",
    "    shipping_df = pd.read_csv('../data/shipping.csv')\n",
    "    customers_df = pd.read_csv('../data/customers.csv')\n",
    "\n",
    "    # 모든 데이터프레임 병합\n",
    "    df = pd.merge(orders_df, payments_df, on='order_id', how='left')\n",
    "    df = pd.merge(df, products_df, on='product_id', how='left')\n",
    "    df = pd.merge(df, customers_df, on='customer_id', how='left')\n",
    "    df = pd.merge(df, shipping_df, on='order_id', how='left')\n",
    "\n",
    "    # 데이터 전처리\n",
    "    date_cols = ['order_date', 'payment_date', 'join_date', 'shipping_start_date', 'shipping_end_date']\n",
    "    for col in date_cols:\n",
    "        df[col] = pd.to_datetime(df[col], errors='coerce')\n",
    "    df['total_sales'] = df['quantity'] * df['price']\n",
    "    \n",
    "    print(\"데이터 로드 및 통합이 완료되었습니다.\")\n",
    "\n",
    "except FileNotFoundError as e:\n",
    "    print(f\"파일을 찾을 수 없습니다: {e}\")\n"
   ]
  },
  {
   "cell_type": "code",
   "execution_count": null,
   "metadata": {},
   "outputs": [],
   "source": [
    "# 문제 4: 카테고리 내에서 각 상품의 매출액 순위를 계산하고, 카테고리별 상위 3개 상품을 확인하세요.\n",
    "# 비즈니스 목적: 각 카테고리의 핵심 상품(Key Item)과 비주력 상품을 파악하여 상품 진열, 프로모션, 재고 관리에 활용합니다."
   ]
  },
  {
   "cell_type": "code",
   "execution_count": null,
   "metadata": {},
   "outputs": [
    {
     "name": "stdout",
     "output_type": "stream",
     "text": [
      "카테고리별 매출 상위 3개 상품:\n",
      "    category  product_name  total_sales  rank\n",
      "4         가구     가구 상품_382      6860700   1.0\n",
      "44        가구   전자제품 상품_273      6623000   2.0\n",
      "57        가구    화장품 상품_323      6123000   3.0\n",
      "70        도서     도서 상품_360      7355400   1.0\n",
      "74        도서      도서 상품_83      6828800   2.0\n",
      "112       도서     화장품 상품_82      6683000   3.0\n",
      "141    스포츠용품   스포츠용품 상품_61      8710000   1.0\n",
      "146    스포츠용품     식품 상품_173      7522900   2.0\n",
      "151    스포츠용품     식품 상품_473      7260100   3.0\n",
      "198       식품      가구 상품_46      9682200   1.0\n",
      "216       식품  스포츠용품 상품_482      6859800   2.0\n",
      "238       식품   전자제품 상품_280      6697500   3.0\n",
      "344       의류   전자제품 상품_463      8091900   1.0\n",
      "315       의류     식품 상품_396      7265700   2.0\n",
      "347       의류    화장품 상품_224      6907500   3.0\n",
      "377     전자제품     도서 상품_391      9197700   1.0\n",
      "399     전자제품     의류 상품_145      8109000   2.0\n",
      "413     전자제품   전자제품 상품_218      7281600   3.0\n",
      "458      화장품  스포츠용품 상품_376      8261600   1.0\n",
      "469      화장품     식품 상품_329      7087600   2.0\n",
      "434      화장품     가구 상품_197      6801900   3.0\n"
     ]
    }
   ],
   "source": [
    "# 출력 결과를 보고 코딩하세요"
   ]
  },
  {
   "cell_type": "code",
   "execution_count": 90,
   "metadata": {},
   "outputs": [
    {
     "name": "stdout",
     "output_type": "stream",
     "text": [
      "카테고리별 상위 3개 상품:\n",
      "    category  product_name  total_sales  rank\n",
      "49        가구     가구 상품_382      6860700   1.0\n",
      "39        가구   전자제품 상품_273      6623000   2.0\n",
      "46        가구    화장품 상품_323      6123000   3.0\n",
      "97        도서     도서 상품_360      7355400   1.0\n",
      "68        도서      도서 상품_83      6828800   2.0\n",
      "67        도서     화장품 상품_82      6683000   3.0\n",
      "118    스포츠용품   스포츠용품 상품_61      8710000   1.0\n",
      "132    스포츠용품     식품 상품_173      7522900   2.0\n",
      "187    스포츠용품     식품 상품_473      7260100   3.0\n",
      "199       식품      가구 상품_46      9682200   1.0\n",
      "260       식품  스포츠용품 상품_482      6859800   2.0\n",
      "230       식품   전자제품 상품_280      6697500   3.0\n",
      "352       의류   전자제품 상품_463      8091900   1.0\n",
      "337       의류     식품 상품_396      7265700   2.0\n",
      "305       의류    화장품 상품_224      6907500   3.0\n",
      "409     전자제품     도서 상품_391      9197700   1.0\n",
      "374     전자제품     의류 상품_145      8109000   2.0\n",
      "387     전자제품   전자제품 상품_218      7281600   3.0\n",
      "482      화장품  스포츠용품 상품_376      8261600   1.0\n",
      "475      화장품     식품 상품_329      7087600   2.0\n",
      "462      화장품     가구 상품_197      6801900   3.0\n"
     ]
    }
   ],
   "source": [
    "# 출력 결과를 보고 코딩하세요\n",
    "# 문제 : 카테고리 내에서 각 상품의 매출액 순위를 계산하고, 카테고리별 상위 3개 상품을 확인\n",
    "# 출력항목   category  product_name  total_sales  rank\n",
    "# df.columns\n",
    "''' \n",
    "Index(['order_id', 'customer_id', 'product_id', 'order_date', 'quantity',\n",
    "       'payment_id', 'payment_method', 'payment_status', 'payment_date',\n",
    "       'product_name', 'category', 'price', 'stock', 'name', 'gender', 'age',\n",
    "       'join_date', 'city', 'shipping_id', 'shipping_company',\n",
    "       'shipping_status', 'shipping_start_date', 'shipping_end_date',\n",
    "       'total_sales', 'year_month'],\n",
    "      dtype='object')\n",
    "'''\n",
    "# product_id 기준으로 카테고리별 상위 3개 상품 확인\n",
    "# 1. 카테고리별, 상품ID별 총 매출액 집계해서 DataFrame 만들기\n",
    "category_product_sales = df.groupby(['category', 'product_id'])['total_sales'].sum().reset_index()\n",
    "\n",
    "\n",
    "# 2. 매출액 데이터에 상품명 조인 및 순위 계산\n",
    "results = (\n",
    "    category_product_sales\n",
    "    # 상품명을 가져오기 위해 product_id와 join\n",
    "    .merge(products_df[['product_id', 'product_name']], on='product_id', how='left') \n",
    "    # 카테고리별 총 매출액으로 그룹핑한 후 rank()함수를 이용해 ranking구하고\n",
    "    .assign(rank=lambda x: x.groupby('category')['total_sales'].rank(method='dense', ascending=False))\n",
    "    # 카테고리별 랭킹으로 sort하고\n",
    "    .sort_values(['category', 'rank'])\n",
    "    # 랭킹이 top3 인 것들만 가져와서 \n",
    "    .query('rank <= 3')[['category', 'product_name', 'total_sales', 'rank']]\n",
    ")\n",
    "\n",
    "print(\"카테고리별 상위 3개 상품:\")\n",
    "print(results)"
   ]
  }
 ],
 "metadata": {
  "kernelspec": {
   "display_name": "pandas_numpy",
   "language": "python",
   "name": "python3"
  },
  "language_info": {
   "codemirror_mode": {
    "name": "ipython",
    "version": 3
   },
   "file_extension": ".py",
   "mimetype": "text/x-python",
   "name": "python",
   "nbconvert_exporter": "python",
   "pygments_lexer": "ipython3",
   "version": "3.11.13"
  },
  "orig_nbformat": 4
 },
 "nbformat": 4,
 "nbformat_minor": 2
}
