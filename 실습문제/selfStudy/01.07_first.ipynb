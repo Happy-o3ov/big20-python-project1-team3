# 파이썬 판다스와 sns 의 히트맵 사용 문제
# 문제: 고객의 첫 구매 상품과 두 번째 구매 상품 카테고리 간의 전환 패턴을 분석하세요. 
# 시각화: 히트맵

df.columns 의 결과:
Index(['order_id', 'customer_id', 'product_id', 'order_date', 'quantity',
       'payment_id', 'payment_method', 'payment_status', 'payment_date',
       'product_name', 'category', 'price', 'stock', 'name', 'gender', 'age',
       'join_date', 'city', 'shipping_id', 'shipping_company',
       'shipping_status', 'shipping_start_date', 'shipping_end_date',
       'total_sales'],
      dtype='object')
	  
# 고객별 구매 이력 정렬
df_sorted = df[['customer_id', 'order_date', 'category']].sort_values(by=['customer_id', 'order_date'])	  

# 구매 순서 부여 하고 첫번째와 두번째 추출 
df_second_purchases = (
    df_sorted[['customer_id', 'order_date', 'category']]
    .assign(purchase_order=lambda x: x.groupby('customer_id').cumcount() + 1)
    .groupby('customer_id')
    .filter(lambda x: x['purchase_order'].max() >= 2)
    .query('purchase_order in [1, 2]')
)

# 그래프를 위한 피벗테이블 생성 
pivot_df = df_second_purchases.pivot_table(
    index='customer_id',
    columns='purchase_order',
    values='category',
    aggfunc='first'
)

pivot_df.columns = ['first_category', 'second_category']

# 각각 몇번씩 발생했는지 카테고리별로 그룹핑 한 후 count 함. 
transition_counts = (
    pivot_df
    .groupby(['first_category', 'second_category']) # 구매한 순서대로 그룹핑
    .size()                                         # 몇번 있었는지 count
    .unstack(fill_value=0)                          # just in case 로 fill_value=0 줌
)
transition_counts

# 각 행의 합을 기준으로 비율 계산
transition_percent = transition_counts.div(transition_counts.sum(axis=1), axis=0)

# heatmap 그리기
plt.figure(figsize=(10, 8))  # 그래프 크기 조절
sns.heatmap(transition_percent, annot=True, fmt='.1%', cmap='YlGnBu') # heatmap 그리기, 소숫점 1번째 짜리까지 #Blues

plt.title('첫번째 구매에서 두번째 구매로의 카테고리 전환 패턴')
plt.xlabel('두번째 카테고리')
plt.ylabel('첫번째 카테고리')
plt.tight_layout()
plt.show()