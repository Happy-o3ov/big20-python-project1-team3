{
 "cells": [
  {
   "cell_type": "code",
   "execution_count": 15,
   "id": "679f8fcd",
   "metadata": {},
   "outputs": [
    {
     "name": "stdout",
     "output_type": "stream",
     "text": [
      "🔴🟠🟡🟢🔵🟣⚫⚪⚫🟣🔵🟢🟡🟠🔴\n",
      "\n",
      "1. 회원 목록\n",
      "2. 회원 추가\n",
      "3. 회원 수정\n",
      "4. 회원 삭제\n",
      "5. 종료\n",
      "\n",
      "🟥🟧🟨🟩🟦🟪⬛⬜⬛🟪🟦🟩🟨🟧🟥\n"
     ]
    }
   ],
   "source": [
    "prompt = \"\"\"\n",
    "1. 회원 목록\n",
    "2. 회원 추가\n",
    "3. 회원 수정\n",
    "4. 회원 삭제\n",
    "5. 종료\n",
    "\"\"\"\n",
    "\n",
    "inputNumber = 0\n",
    "while inputNumber != 5:\n",
    "    print('🔴🟠🟡🟢🔵🟣⚫⚪⚫🟣🔵🟢🟡🟠🔴')\n",
    "    print(prompt)\n",
    "    print('🟥🟧🟨🟩🟦🟪⬛⬜⬛🟪🟦🟩🟨🟧🟥')\n",
    "    inputNumber=int(input('1부터 5 사이 값을 입력하세요 : '))\n"
   ]
  },
  {
   "cell_type": "code",
   "execution_count": 17,
   "id": "bc3ed1e0",
   "metadata": {},
   "outputs": [
    {
     "name": "stdout",
     "output_type": "stream",
     "text": [
      "🔴🟠🟡🟢🔵🟣⚫⚪⚫🟣🔵🟢🟡🟠🔴\n",
      "\n",
      "1. 회원 목록\n",
      "2. 회원 추가\n",
      "3. 회원 수정\n",
      "4. 회원 삭제\n",
      "5. 종료\n",
      "\n",
      "🟥🟧🟨🟩🟦🟪⬛⬜⬛🟪🟦🟩🟨🟧🟥\n",
      "입력한 값 :  5\n"
     ]
    }
   ],
   "source": [
    "inputNumber = 0\n",
    "while True:\n",
    "    print('🔴🟠🟡🟢🔵🟣⚫⚪⚫🟣🔵🟢🟡🟠🔴')\n",
    "    print(prompt)\n",
    "    print('🟥🟧🟨🟩🟦🟪⬛⬜⬛🟪🟦🟩🟨🟧🟥')\n",
    "    inputNumber=int(input(\"1부터 5 사이 값을 입력하세요 : \"))\n",
    "    print('입력한 값 : ', inputNumber)\n",
    "    if inputNumber == 5:\n",
    "        break"
   ]
  },
  {
   "cell_type": "code",
   "execution_count": 11,
   "id": "8392ad9c",
   "metadata": {},
   "outputs": [
    {
     "ename": "SyntaxError",
     "evalue": "invalid syntax (2559435919.py, line 4)",
     "output_type": "error",
     "traceback": [
      "  \u001b[36mCell\u001b[39m\u001b[36m \u001b[39m\u001b[32mIn[11]\u001b[39m\u001b[32m, line 4\u001b[39m\n\u001b[31m    \u001b[39m\u001b[31mwhile in\u001b[39m\n          ^\n\u001b[31mSyntaxError\u001b[39m\u001b[31m:\u001b[39m invalid syntax\n"
     ]
    }
   ],
   "source": [
    "members = [\"윤여림\",\"장하리\",\"하리와아이들\"]\n",
    "\n",
    "inputNumber = 0\n",
    "while in "
   ]
  },
  {
   "cell_type": "code",
   "execution_count": 9,
   "id": "79c8784c",
   "metadata": {},
   "outputs": [],
   "source": [
    "# 데이터 생성\n",
    "data = {'번호1' : {'name':'윤여림', 'phone':'01031033126', 'relation':'가족'},\n",
    "        '번호2' : {'name':'장하리', 'phone':'01074112681', 'relation':'친구'},\n",
    "        '번호3' : {'name':'하리와아이들', 'phone':'01086932681', 'relation':'기타'}}"
   ]
  },
  {
   "cell_type": "code",
   "execution_count": null,
   "id": "50492148",
   "metadata": {},
   "outputs": [
    {
     "ename": "IndentationError",
     "evalue": "expected an indented block after 'with' statement on line 7 (9542370.py, line 8)",
     "output_type": "error",
     "traceback": [
      "  \u001b[36mCell\u001b[39m\u001b[36m \u001b[39m\u001b[32mIn[12]\u001b[39m\u001b[32m, line 8\u001b[39m\n\u001b[31m    \u001b[39m\u001b[31mwith open(DATA_FILE, 'wb') as f:\u001b[39m\n    ^\n\u001b[31mIndentationError\u001b[39m\u001b[31m:\u001b[39m expected an indented block after 'with' statement on line 7\n"
     ]
    }
   ],
   "source": [
    "# 선배님 샘플 파일 코드\n",
    "\n",
    "def makeDataFile() : # 데이터 저장\n",
    "    with open(DATA_FILE, 'wb') as f:\n",
    "        pickle.dump(Data, f)\n",
    "def loadDataFile() : # 데이터 출력\n",
    "    with open(DATA_FILE, 'rb') as f:\n",
    "        \n",
    "    with open(DATA_FILE, 'wb') as f: # 알수없음\n",
    "        pickle.dump({}, f)"
   ]
  },
  {
   "cell_type": "code",
   "execution_count": null,
   "id": "91ae73ea",
   "metadata": {},
   "outputs": [],
   "source": []
  }
 ],
 "metadata": {
  "kernelspec": {
   "display_name": "python-env",
   "language": "python",
   "name": "python3"
  },
  "language_info": {
   "codemirror_mode": {
    "name": "ipython",
    "version": 3
   },
   "file_extension": ".py",
   "mimetype": "text/x-python",
   "name": "python",
   "nbconvert_exporter": "python",
   "pygments_lexer": "ipython3",
   "version": "3.11.13"
  }
 },
 "nbformat": 4,
 "nbformat_minor": 5
}
