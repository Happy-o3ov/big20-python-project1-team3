{
 "cells": [
  {
   "cell_type": "code",
   "execution_count": 9,
   "id": "9952bd18",
   "metadata": {},
   "outputs": [
    {
     "name": "stdout",
     "output_type": "stream",
     "text": [
      "🟥🟧🟨🟩🟦🟪⬛⬜⬛🟪🟦🟩🟨🟧🟥\n",
      "\n",
      "1. 회원 목록\n",
      "2. 회원 추가\n",
      "3. 회원 수정\n",
      "4. 회원 삭제\n",
      "5. 종료\n",
      "\n",
      "🟥🟧🟨🟩🟦🟪⬛⬜⬛🟪🟦🟩🟨🟧🟥\n"
     ]
    }
   ],
   "source": [
    "prompt = \"\"\"\n",
    "1. 회원 목록\n",
    "2. 회원 추가\n",
    "3. 회원 수정\n",
    "4. 회원 삭제\n",
    "5. 종료\n",
    "\"\"\"\n",
    "\n",
    "inputNumber = 0\n",
    "while inputNumber != 5:\n",
    "    print('🟥🟧🟨🟩🟦🟪⬛⬜⬛🟪🟦🟩🟨🟧🟥')\n",
    "    print(prompt)\n",
    "    print('🟥🟧🟨🟩🟦🟪⬛⬜⬛🟪🟦🟩🟨🟧🟥')\n",
    "    inputNumber=int(input('1부터 5 사이 값을 입력하세요 : '))"
   ]
  },
  {
   "cell_type": "code",
   "execution_count": 16,
   "id": "b9873c8b",
   "metadata": {},
   "outputs": [
    {
     "name": "stdout",
     "output_type": "stream",
     "text": [
      "🟥🟧🟨🟩🟦🟪⬛⬜⬛🟪🟦🟩🟨🟧🟥\n",
      "\n",
      "1. 회원 목록\n",
      "2. 회원 추가\n",
      "3. 회원 수정\n",
      "4. 회원 삭제\n",
      "5. 종료\n",
      "\n",
      "🟥🟧🟨🟩🟦🟪⬛⬜⬛🟪🟦🟩🟨🟧🟥\n",
      "입력한 값 :  5\n"
     ]
    }
   ],
   "source": [
    "inputNumber = 0\n",
    "while True:\n",
    "    print('🟥🟧🟨🟩🟦🟪⬛⬜⬛🟪🟦🟩🟨🟧🟥')\n",
    "    print(prompt)\n",
    "    print('🟥🟧🟨🟩🟦🟪⬛⬜⬛🟪🟦🟩🟨🟧🟥')\n",
    "    inputNumber=int(input('1부터 5 사이 값을 입력하세요 : '))\n",
    "    print('입력한 값 : ', inputNumber)\n",
    "    if inputNumber == 5:\n",
    "            break"
   ]
  },
  {
   "cell_type": "code",
   "execution_count": 4,
   "id": "de6cad5a",
   "metadata": {},
   "outputs": [],
   "source": [
    "import pickle\n",
    "\n",
    "f = open('../data/member.dat','wb')\n",
    "data = {}\n",
    "pickle.dump(data, f)\n",
    "f.close()\n",
    "f = open('../data/member.dat','rb')\n",
    "data = pickle.load(f)"
   ]
  },
  {
   "cell_type": "code",
   "execution_count": 5,
   "id": "cbefe183",
   "metadata": {},
   "outputs": [],
   "source": [
    "member = {'phone':'01074112681', 'name':'윤여림', 'relation':'가족'}"
   ]
  },
  {
   "cell_type": "code",
   "execution_count": 6,
   "id": "13748ca3",
   "metadata": {},
   "outputs": [],
   "source": [
    "# 데이터 생성 ?\n",
    "\n",
    "data = {'번호1': {'name':'윤여림', 'phone':'01074112681', 'relation':'친구'},\n",
    "        '번호2': {'name':'여림이와아이들', 'phone':'01031033126', 'relation':'친구'},\n",
    "        '번호3': {'name':'여리미', 'phone':'01032103210', 'relation':'그외'}}"
   ]
  },
  {
   "cell_type": "code",
   "execution_count": 13,
   "id": "957b9107",
   "metadata": {},
   "outputs": [
    {
     "ename": "IndentationError",
     "evalue": "unexpected indent (3371027267.py, line 3)",
     "output_type": "error",
     "traceback": [
      "  \u001b[36mCell\u001b[39m\u001b[36m \u001b[39m\u001b[32mIn[13]\u001b[39m\u001b[32m, line 3\u001b[39m\n\u001b[31m    \u001b[39m\u001b[31minputNnumber == 3:\u001b[39m\n    ^\n\u001b[31mIndentationError\u001b[39m\u001b[31m:\u001b[39m unexpected indent\n"
     ]
    }
   ],
   "source": [
    "if inputNumber ==2:\n",
    "    add_data(data)\n",
    "        inputNnumber == 3:\n",
    "break\n",
    "inputNnumber == 4:\n",
    "break\n",
    "inputNnumber == 5:\n",
    "break\n",
    "\n",
    "f.close()"
   ]
  },
  {
   "cell_type": "code",
   "execution_count": 12,
   "id": "fe2d0be2",
   "metadata": {},
   "outputs": [
    {
     "name": "stdout",
     "output_type": "stream",
     "text": [
      "전화번호는 : 번호1 , 이름 : 윤여림, 관계 : 친구\n",
      "전화번호는 : 번호2 , 이름 : 여림이와아이들, 관계 : 친구\n",
      "전화번호는 : 번호3 , 이름 : 여리미, 관계 : 그외\n"
     ]
    }
   ],
   "source": [
    "def add_data():\n",
    "    data(data,'01031003333','땡땡과아이들','친구')\n",
    "\n",
    "for key,value in data.items():\n",
    "    print(f\"전화번호는 : {key} , 이름 : {value['name']}, 관계 : {value['relation']}\")"
   ]
  },
  {
   "cell_type": "code",
   "execution_count": 11,
   "id": "9055006d",
   "metadata": {},
   "outputs": [
    {
     "ename": "NameError",
     "evalue": "name 'DATA_FILE' is not defined",
     "output_type": "error",
     "traceback": [
      "\u001b[31m---------------------------------------------------------------------------\u001b[39m",
      "\u001b[31mNameError\u001b[39m                                 Traceback (most recent call last)",
      "\u001b[36mCell\u001b[39m\u001b[36m \u001b[39m\u001b[32mIn[11]\u001b[39m\u001b[32m, line 14\u001b[39m\n\u001b[32m     11\u001b[39m         pickle.dump({}, f)\n\u001b[32m     13\u001b[39m \u001b[38;5;66;03m# 빈 파일 생성\u001b[39;00m\n\u001b[32m---> \u001b[39m\u001b[32m14\u001b[39m \u001b[38;5;28;01mwith\u001b[39;00m \u001b[38;5;28mopen\u001b[39m(\u001b[43mDATA_FILE\u001b[49m, \u001b[33m'\u001b[39m\u001b[33mwb\u001b[39m\u001b[33m'\u001b[39m) \u001b[38;5;28;01mas\u001b[39;00m f:\n\u001b[32m     15\u001b[39m     pickle.dump({}, f) \u001b[38;5;66;03m# 바로 위에랑 같네\u001b[39;00m\n\u001b[32m     17\u001b[39m \u001b[38;5;66;03m# 파일 읽기\u001b[39;00m\n",
      "\u001b[31mNameError\u001b[39m: name 'DATA_FILE' is not defined"
     ]
    }
   ],
   "source": [
    "# 선배님 샘플 파일 코드\n",
    "# \n",
    "def makeDataFile(): # 데이터 저장\n",
    "    with open(DATA_FILE, 'wb') as f:\n",
    "        pickle.dump(Data, f)\n",
    "        \n",
    "def loadDataFile(): # 데이터 출력\n",
    "    with open(DATA_FILE, 'rb') as f:\n",
    "        data = pickle.load(f)\n",
    "    with open(DATA_FILE, 'wb') as f:\n",
    "        pickle.dump({}, f)\n",
    "    \n",
    "# 빈 파일 생성\n",
    "with open(DATA_FILE, 'wb') as f:\n",
    "    pickle.dump({}, f) # 바로 위에랑 같네\n",
    "\n",
    "# 파일 읽기\n",
    "f = open('../../data/mmembers.dat','rb')\n",
    "data = pickle.load(f)\n",
    "print(data)\n",
    "\n"
   ]
  },
  {
   "cell_type": "code",
   "execution_count": null,
   "id": "99923183",
   "metadata": {},
   "outputs": [],
   "source": []
  }
 ],
 "metadata": {
  "kernelspec": {
   "display_name": "python-env",
   "language": "python",
   "name": "python3"
  },
  "language_info": {
   "codemirror_mode": {
    "name": "ipython",
    "version": 3
   },
   "file_extension": ".py",
   "mimetype": "text/x-python",
   "name": "python",
   "nbconvert_exporter": "python",
   "pygments_lexer": "ipython3",
   "version": "3.11.13"
  }
 },
 "nbformat": 4,
 "nbformat_minor": 5
}
